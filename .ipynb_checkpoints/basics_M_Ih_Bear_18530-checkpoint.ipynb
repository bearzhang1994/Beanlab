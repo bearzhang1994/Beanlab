{
 "cells": [
  {
   "cell_type": "code",
   "execution_count": null,
   "metadata": {
    "collapsed": true
   },
   "outputs": [],
   "source": [
    "#install packages\n",
    "%matplotlib inline\n",
    "import pyabf\n",
    "import os\n",
    "import sys\n",
    "import numpy as np\n",
    "import matplotlib.pyplot as plt\n",
    "import pandas as pd\n",
    "import ggplot\n",
    "import scipy\n",
    "import statsmodels\n",
    "from IPython.display import display"
   ]
  },
  {
   "cell_type": "code",
   "execution_count": null,
   "metadata": {
    "collapsed": true
   },
   "outputs": [],
   "source": [
    "#check and set working directory for data import\n",
    "os.getcwd()\n",
    "os.chdir('/Users/bearzhang/Desktop/Beanlab/python_ephys')\n",
    "os.getcwd()"
   ]
  },
  {
   "cell_type": "code",
   "execution_count": null,
   "metadata": {},
   "outputs": [],
   "source": [
    "#store object in notebook using store magic\n",
    "%store df\n",
    "#csv backup\n",
    "df.to_csv('IhM.csv')"
   ]
  },
  {
   "cell_type": "code",
   "execution_count": null,
   "metadata": {},
   "outputs": [],
   "source": [
    "df.loc['18507cell16',:]"
   ]
  },
  {
   "cell_type": "code",
   "execution_count": null,
   "metadata": {},
   "outputs": [],
   "source": [
    "os.getcwd()\n",
    "os.chdir('/Users/bearzhang/Desktop/Beanlab/py/Beanlab')\n",
    "os.getcwd()"
   ]
  },
  {
   "cell_type": "code",
   "execution_count": null,
   "metadata": {},
   "outputs": [],
   "source": [
    "#recover stored object from %store\n",
    "# -r for refreshing everything\n",
    "%store -r\n",
    "# -r objname for refreshing specific variable name\n",
    "#delete stored object:%store -d or %store -z delete all \n",
    "dfcopy = df\n",
    "display(df.head(5))\n",
    "\n",
    "#get wt df\n",
    "dfwt = df[df['genotype'] == 'WT']\n",
    "#dfwt\n",
    "#get shank df\n",
    "dfshnk = df[df['genotype'] != 'WT']\n",
    "#dfshnk\n",
    "\n",
    "#select for Ih not null in df\n",
    "dfIhnotnull = df[pd.notnull(df['Ih (pA)'])]"
   ]
  },
  {
   "cell_type": "code",
   "execution_count": null,
   "metadata": {},
   "outputs": [],
   "source": [
    "#Be careful with this ,this makes [1,2,3] into '[1,2,3]'\n",
    "#read csv, index_col='Unnamed: 0' is to read first row as index\n",
    "#df = pd.read_csv('IhM.csv',index_col='Unnamed: 0')\n",
    "#df.shape"
   ]
  },
  {
   "cell_type": "code",
   "execution_count": null,
   "metadata": {},
   "outputs": [],
   "source": [
    "df"
   ]
  },
  {
   "cell_type": "code",
   "execution_count": null,
   "metadata": {},
   "outputs": [],
   "source": [
    "#store everything you want to store here\n",
    "%store df \n",
    "%store"
   ]
  },
  {
   "cell_type": "code",
   "execution_count": null,
   "metadata": {
    "collapsed": true
   },
   "outputs": [],
   "source": [
    "# function to calculate downward/upward peak from a certain range(leftend,rightend)\n",
    "def downpeak(trace,tp):\n",
    "    '''lo, hi = input(\"Enter the range of peak (unit:s)(seperate by one space): \").split()\n",
    "    lo = int(float(lo)*100000)\n",
    "    hi = int(float(hi)*100000)'''\n",
    "    #for 18501 and after:\n",
    "    lo = int(0.52*100000)\n",
    "    hi = int(0.53*100000)\n",
    "    #for 18501 before\n",
    "    #lo = int(0.135*100000)\n",
    "    #hi = int(0.145*100000)\n",
    "    peak = min(trace[lo:hi])\n",
    "    if tp == 'VC':\n",
    "        print('peak value from point',lo,'to point',hi,'is',peak,'pA')\n",
    "        print('figure of voltage command and recoded current is shown below')\n",
    "    else:\n",
    "        print('peak value from point',lo,'to point',hi,'is',peak,'mV')\n",
    "        print('figure of recorded voltage and current command is shown below')\n",
    "        \n",
    "    plt.figure('voltage',figsize=(15,8))\n",
    "    plt.plot(time[lo:hi],voltage[lo:hi],color='k')\n",
    "    plt.xlabel('time (s)', fontsize=14, color='black')\n",
    "    plt.ylabel('voltage (mV)', fontsize=14, color='black')\n",
    "    plt.title(date+cellID+'voltage at sweep'+str(SwpNm),fontsize=14, color='black')\n",
    "    \n",
    "    plt.figure('current',figsize=(15,8))\n",
    "    plt.plot(time[lo:hi],current[lo:hi],color='r')\n",
    "    plt.xlabel('time (s)', fontsize=14, color='black')\n",
    "    plt.ylabel('current (pA)', fontsize=14, color='black')\n",
    "    plt.title(date+cellID+'current at sweep'+str(SwpNm),fontsize=14, color='black')\n",
    "    return(peak)\n",
    "\n",
    "\n",
    "def uppeak():\n",
    "    lo, hi = input(\"Enter the range of peak (unit s): \").split()\n",
    "    peak = max(trace[lo:hi])\n",
    "    peak = min(trace[lo:hi])\n",
    "    if tp == 'VC':\n",
    "        print('peak value from point',lo,'to point',hi,'is',peak,'pA')\n",
    "        print('figure of voltage command and recoded current is shown below')\n",
    "    else:\n",
    "        print('peak value from point',lo,'to point',hi,'is',peak,'mV')\n",
    "        print('figure of recorded voltage and current command is shown below')\n",
    "        \n",
    "    plt.figure('voltage',figsize=(15,8))\n",
    "    plt.plot(time[lo:hi],voltage[lo:hi],color='k')\n",
    "    plt.xlabel('time (s)', fontsize=14, color='black')\n",
    "    plt.ylabel('voltage (mV)', fontsize=14, color='black')\n",
    "    plt.title('voltage at sweep'+str(SwpNm),fontsize=14, color='black')\n",
    "    \n",
    "    plt.figure('current',figsize=(15,8))\n",
    "    plt.plot(time[lo:high],current[lo:high],color='b')\n",
    "    plt.xlabel('time (s)', fontsize=14, color='black')\n",
    "    plt.ylabel('current (pA)', fontsize=14, color='black')\n",
    "    plt.title('current at sweep'+str(SwpNm),fontsize=14, color='black')\n",
    "    return(peak)\n",
    "\n",
    "# this block make a function for calculate the amplitude difference between two ranges of a trace (average(leftrange)-average(rightrange))\n",
    "# for VC mode, trace0: current recorded; trace1: voltage command\n",
    "def diff(trace0,trace1):\n",
    "    rlo, rhi = input(\"Enter the range of right end range (unit:s)(seperate by one space): \").split()\n",
    "    llo, lhi = input(\"Enter the range of left end range (unit:s)(seperate by one space): \").split()\n",
    "    rlo = int(float(rlo)*100000)\n",
    "    rhi = int(float(rhi)*100000)\n",
    "    llo = int(float(llo)*100000)\n",
    "    lhi = int(float(lhi)*100000)\n",
    "    \n",
    "    diff0 = sum(trace0[llo:lhi])/len(trace0[llo:lhi]) - sum(trace0[rlo:rhi])/len(trace0[rlo:rhi])\n",
    "    diff0 = round(diff0,2)\n",
    "    ave1 = sum(trace1[llo:lhi]+trace1[rlo:rhi])/len(trace1[llo:lhi]+trace1[rlo:rhi])\n",
    "    print('amplitude difference between two ranges in trace0 is ', diff0)\n",
    "    print('the average command of two ranges in trace1 is', ave1)\n",
    "    return(diff0,ave1)\n",
    "\n",
    "def diffIhM(trace0,llo,lhi,rlo,rhi):\n",
    "    \n",
    "    diff0 = sum(trace0[llo:lhi])/len(trace0[llo:lhi]) - sum(trace0[rlo:rhi])/len(trace0[rlo:rhi])\n",
    "    diff0 = round(diff0,2)\n",
    "\n",
    "    #ave1 = 0.5*(sum(trace1[llo:lhi])/len(trace1[llo:lhi])+sum(trace1[rlo:rhi])/len(trace1[rlo:rhi]))\n",
    "    #print('amplitude difference between two ranges in trace0 is ', diff0)\n",
    "    #print('the average command of two ranges in trace1 is', ave1)\n",
    "    return(diff0)\n"
   ]
  },
  {
   "cell_type": "code",
   "execution_count": null,
   "metadata": {
    "collapsed": true
   },
   "outputs": [],
   "source": [
    "#create a new dataframe, if df already exists, skip this block\n",
    "#df = pd.DataFrame(columns = colname)\n",
    "#df"
   ]
  },
  {
   "cell_type": "code",
   "execution_count": null,
   "metadata": {},
   "outputs": [],
   "source": [
    "#add new cell: use this block to add new cells to the existing df\n",
    "#import data\n",
    "#pls no quotes when enter the name of the file\n",
    "brkthru = input('Enter the name of breakthru file: ')\n",
    "brkthru = pyabf.ABF(brkthru+'.abf')\n",
    "\n",
    "#brkthru.info()\n",
    "#extract file info\n",
    "date = brkthru.ID[:5]\n",
    "print('date of this abf is',date)\n",
    "swpcnt = brkthru.sweepCount\n",
    "print('total sweep count of this file is ',swpcnt)\n",
    "pntnm = brkthru.pointsPerSweep\n",
    "print('number of points per sweep is ', pntnm)\n",
    "\n",
    "cellID = input('Enter the cellID of this file: (enter a number)')#pls enter a number not 'cellnumber'\n",
    "cellID = 'cell' + cellID\n",
    "print('cell ID is',cellID)\n",
    "genotype = input('Enter the genotype of the animal: ')\n",
    "print('the cell is from',genotype,'animal')\n",
    "state = input('Is this cell cultured_c or fridged_f overnight or not known_k?')\n",
    "print('this cell is',state, 'overnight')\n",
    "#Cm is calculated using IgoR swp619x_b, RsBrkThru, Epoch2:-70 to -75 for 10 ms each\n",
    "Cm = input('what is the Cm of the cell? unit pF')\n",
    "print('the membrane capacitance of the cell is', Cm,'pF')\n",
    "#Rs is calculated using IgoR swp619x_b, RsBrkThru, Epoch2:-70 to -75 for 10 ms each\n",
    "Rs = input('what is the Rs fo the cell? unit Mohms')\n",
    "print('the series resistance of the cell is', Rs,'Mohms')\n",
    "#Rin is calculated using IgoR swp619x_b, RsBrkThru, Epoch2:-70 to -75 for 10 ms each\n",
    "Rin = input('what is the Rin of the cell? unit Gohms')\n",
    "SwpNm = input('Enter the number of the sweep of interest')\n",
    "brkthru.setSweep(int(SwpNm)-1)#in python sweeps numbers start at 0, IgoR at 1\n",
    "current = brkthru.dataY\n",
    "voltage = brkthru.dataC\n",
    "time = brkthru.dataX\n",
    "peak = downpeak(current,'VC')\n",
    "print('Ina at 0mV (pA) is',peak,'pA')\n",
    "print('the input resistance of the cell is', float(Rin)*1000,'Mohms')\n",
    "#RMP is calculated use IgoR swp619x_b, Vrest, average 3 sweeps starting from the brkthru sweep\n",
    "RMP = input('what is RMP? unit mV')\n",
    "print('the resting membrane potential of the cell is(before liquid junction potential correction)', RMP,'mV')\n",
    "size = input('is the cell large or small DRG neuron? or unknown')\n",
    "print('the neuron is ', size, 'drg neuron')\n",
    "com = input('add comments to this file:')\n",
    "print('comment added:', com)\n",
    "rheo = input('what is rheobase? unit pA')\n",
    "print('the rheobase is', rheo,'pA')\n",
    "\n",
    "#calculate Ina at break thru and add it to the df,here use downpeak()\n",
    "\n",
    "#create NEW a dataframe\n",
    "#create all of the colums(features)\n",
    "#colname = ['date','cellID','genotype','Cm (pF)','RMP (mV)','Ina at 0mV (pA)','Rs (Mohms)','Rin (Mohm)','Ih (pA)','Ih voltage (mV)','M current(pA)','M current voltage (mV)','c(ulture)/f(ridge)/k(nown)','size of neuron']\n",
    "##a new dataframe. If not specified, each cell in the df is filled with NaN\n",
    "\n",
    "dfnew = pd.DataFrame(columns=colname,index=[date+cellID])#notice the brackets around 0 to prevent * to be multiplication\n",
    "##fill each cell in df\n",
    "dfnew.loc[date+cellID,'cellID']=cellID\n",
    "dfnew.loc[date+cellID,'c(ulture)/f(ridge)/k(nown)']=state\n",
    "dfnew.loc[date+cellID,'Cm (pF)']=Cm\n",
    "dfnew.loc[date+cellID,'Rs (Mohms)']=Rs\n",
    "dfnew.loc[date+cellID,'RMP (mV)']=RMP\n",
    "dfnew.loc[date+cellID,'Rin (Mohm)']=float(Rin)*1000\n",
    "dfnew.loc[date+cellID,'size of neuron']=size\n",
    "dfnew.loc[date+cellID,'genotype']=genotype\n",
    "dfnew.loc[date+cellID,'Ina at 0mV (pA)']=peak\n",
    "dfnew.loc[date+cellID,'comment']=com\n",
    "dfnew.loc[date+cellID,'date']=date\n",
    "dfnew.loc[date+cellID,'rheobase (pA)'] = rheo\n",
    "dfnewcopy = dfnew#make a copy for NEW dataframe\n",
    "\n",
    "df = df.append(dfnew)\n",
    "dfcopy = df\n",
    "display(df.tail(3))\n",
    "\n",
    "choice = input('Do you want to keep the newly added info(y/n)?:')\n",
    "if choice == 'n':\n",
    "    df = df[:-1]\n",
    "    dfcopy = df\n",
    "print('after decision,now, last 3 rows of df is')\n",
    "display(df.tail(3))"
   ]
  },
  {
   "cell_type": "code",
   "execution_count": null,
   "metadata": {},
   "outputs": [],
   "source": [
    "#display(df)\n",
    "dfcopy"
   ]
  },
  {
   "cell_type": "code",
   "execution_count": null,
   "metadata": {},
   "outputs": [],
   "source": [
    "# This block is for filling Ih/M current and their voltage command\n",
    "Ih = input('Enter the file name of Ih :')#this file also includes the M current info\n",
    "#pls no quotes or no '.abf' when enter the name of the file\n",
    "Ih = pyabf.ABF(Ih+'.abf')\n",
    "#brkthru.info()\n",
    "#extract file info\n",
    "date = Ih.ID[:5]\n",
    "print('date of this abf is',date)\n",
    "swpcnt = Ih.sweepCount\n",
    "print('total sweep count of this file is ',swpcnt)\n",
    "pntnm = Ih.pointsPerSweep\n",
    "print('number of points per sweep is ', pntnm)\n",
    "\n",
    "cellID = input('Enter the cellID of this file: (enter a number)')#pls enter a number not 'cellnumber'\n",
    "cellID = 'cell' + cellID\n",
    "\n",
    "#create an empty list for VC output\n",
    "IhMcurlist = []\n",
    "\n",
    "#create list for voltage command\n",
    "IhMV = [-40,-50,-60,-70,-80,-90,-100,-110]\n",
    "IhV = IhMV[3:]\n",
    "IhV\n",
    "MV = IhMV[:4]\n",
    "MV#here define M voltage as -40 to -70(included), Ih voltage as -70 to -110(included)\n",
    "\n",
    "# llo and lhi depends on tau,if not specified in comments, llo = 0.28, lhi = 0.29\n",
    "lchoice = input(\"use 0.28 0.29 as left range: 'y' or 'n'\")\n",
    "if lchoice == 'y':\n",
    "    llo = 0.28\n",
    "    lhi = 0.29\n",
    "elif lchoice == 'n':\n",
    "    llo, lhi = input(\"Enter the range of left end range (unit:s)(seperate by one space): \").split()\n",
    "    com = com+' ;'+'llo is'+llo+'lhi'+lhi+' ;'\n",
    "else:\n",
    "    print('pls make up your mind about left range')\n",
    "\n",
    "#add comment\n",
    "com = com + input('add comments to this file:')\n",
    "print('comment added:', com)\n",
    "df.loc[date+cellID,'comment']=com\n",
    "\n",
    "#1.24 1.25 in this case\n",
    "rlo = 1.24\n",
    "rhi = 1.25\n",
    "#rlo, rhi = input(\"Enter the range of right end range (unit:s)(seperate by one space): \").split()\n",
    "print('amplitude difference is calculated as average from {}s to {}s minus average from{}s to {}s'.format(llo, lhi,rlo,rhi))\n",
    "rlo = int(float(rlo)*100000)\n",
    "rhi = int(float(rhi)*100000)\n",
    "llo = int(float(llo)*100000)\n",
    "lhi = int(float(lhi)*100000)\n",
    "for i in range(swpcnt):#?This for loop failed to read voltage somehow,find out later\n",
    "    Ih.setSweep(i)\n",
    "    current=Ih.dataY\n",
    "    ampdiff=diffIhM(current,llo,lhi,rlo,rhi)\n",
    "    IhMcurlist.append(ampdiff)\n",
    "\n",
    "#extract Ih info from IhMcurlist\n",
    "Ihlist = IhMcurlist[3:]\n",
    "Mlist = IhMcurlist[:4]\n",
    "\n",
    "#add Ihlist,IhV,Mlist,MV into df\n",
    "df = df.astype('object')\n",
    "df.loc[date+cellID,'Ih (pA)'] = Ihlist\n",
    "df.loc[date+cellID,'Ih voltage (mV)'] = IhV\n",
    "df.loc[date+cellID,'M current(pA)'] = Mlist\n",
    "df.loc[date+cellID,'M current voltage (mV)'] = MV\n",
    "display(df.tail(3))\n",
    "\n",
    "#decide if want to keep the added data\n",
    "choice = input('Do you want to keep the newly added info(y/n)?:')\n",
    "if choice == 'n':\n",
    "    df.loc[date+cellID,'Ih (pA)'] = np.nan\n",
    "    df.loc[date+cellID,'M current(pA)'] = np.nan\n",
    "    dfcopy = df\n",
    "print('after decision,now, last 3 rows of df are')\n",
    "display(df.tail(3))\n",
    "\n",
    "\n"
   ]
  },
  {
   "cell_type": "code",
   "execution_count": null,
   "metadata": {
    "scrolled": true
   },
   "outputs": [],
   "source": [
    "#write a csv to github\n",
    "path = '/Users/bearzhang/Desktop/Beanlab/py/'\n",
    "df.to_csv(os.path.join(path,'IhM.csv'))\n",
    "#write df into local dir\n",
    "df.to_csv('IhM.csv')\n",
    "#store everything you want to store here\n",
    "%store df \n",
    "%store"
   ]
  },
  {
   "cell_type": "code",
   "execution_count": null,
   "metadata": {
    "collapsed": true
   },
   "outputs": [],
   "source": [
    "#inspect df \n",
    "#df.dtypes\n",
    "#df.shape\n",
    "#get row names in a list\n",
    "#list(df.index)\n",
    "#get col names in a list\n",
    "#list(df)\n",
    "#display(df.tail(5))\n",
    "#display(df)"
   ]
  },
  {
   "cell_type": "code",
   "execution_count": null,
   "metadata": {},
   "outputs": [],
   "source": [
    "#change datatype\n",
    "\n",
    "#change L to l\n",
    "#df['size of neuron'][df['size of neuron'] == 'L'] = 'l'\n",
    "#df['size of neuron']\n",
    "\n",
    "#change to numeric\n",
    "df['Cm (pF)'] = pd.to_numeric(df['Cm (pF)'],errors='coerce')\n",
    "df['RMP (mV)'] = pd.to_numeric(df['RMP (mV)'],errors='coerce')\n",
    "df['Ina at 0mV (pA)'] = pd.to_numeric(df['Ina at 0mV (pA)'],errors='coerce')\n",
    "df['Rs (Mohms)'] = pd.to_numeric(df['Rs (Mohms)'],errors='coerce')\n",
    "df['Rin (Mohm)'] = pd.to_numeric(df['Rin (Mohm)'],errors='coerce')\n",
    "#df['Cm (pF)'] = pd.to_numeirc[df['Cm (pF)']]"
   ]
  },
  {
   "cell_type": "code",
   "execution_count": null,
   "metadata": {},
   "outputs": [],
   "source": [
    "#here we choose the cell by the following criteria: RMP<-45mV, Rs<?, Cm>?, Ina at 0mV >.\n",
    "#also, any file with holding current at ? mV larger than? pA must be discarded because the cells become very leaky. \n",
    "\n"
   ]
  },
  {
   "cell_type": "markdown",
   "metadata": {},
   "source": [
    "# Below are plotting section"
   ]
  },
  {
   "cell_type": "markdown",
   "metadata": {},
   "source": [
    "## wt plot"
   ]
  },
  {
   "cell_type": "code",
   "execution_count": null,
   "metadata": {
    "scrolled": true
   },
   "outputs": [],
   "source": [
    "print(os.getcwd())\n",
    "print(os.listdir())"
   ]
  },
  {
   "cell_type": "code",
   "execution_count": null,
   "metadata": {
    "scrolled": true
   },
   "outputs": [],
   "source": [
    "#wt:plot Cm and Rin\n",
    "#Creates just a figure and only one subplot\n",
    "dfwt = df[df['genotype'] == 'WT']\n",
    "fig, ax = plt.subplots(figsize=(10, 5))\n",
    "#plot\n",
    "lcount = sum(dfwt['size of neuron']=='l')\n",
    "scount = sum(dfwt['size of neuron']=='s')\n",
    "ax.scatter(x=dfwt[dfwt['size of neuron']=='l']['Cm (pF)'],y=dfwt[dfwt['size of neuron']=='l']['Rin (Mohm)'],c='r',label = 'large n='+str(lcount))\n",
    "ax.scatter(x=dfwt[dfwt['size of neuron']=='s']['Cm (pF)'],y=dfwt[dfwt['size of neuron']=='s']['Rin (Mohm)'],c='b',label = 'small n='+str(scount))\n",
    "ax.legend()#gives legend\n",
    "ax.set_xlabel('Cm (pF)')\n",
    "ax.set_ylabel('Rin (Mohm)')\n",
    "ax.set_title('WT: Cm and Rin')\n",
    "ax.grid(which ='major',alpha=0.1)\n",
    "plt.show()\n",
    "fig.savefig('/Users/bearzhang/Desktop/Beanlab/py/Beanlab/IhMfig/wtCmRin.png')\n"
   ]
  },
  {
   "cell_type": "code",
   "execution_count": null,
   "metadata": {
    "scrolled": true
   },
   "outputs": [],
   "source": [
    "#wt: plot Rs and Ina at 0mV \n",
    "#Creates just a figure and only one subplot\n",
    "fig, ax = plt.subplots(figsize=(10, 5))\n",
    "#plot\n",
    "ax.scatter(x=dfwt[dfwt['size of neuron']=='l']['Ina at 0mV (pA)'],y=dfwt[dfwt['size of neuron']=='l']['Rs (Mohms)'],c='r',label = 'large n='+str(lcount))\n",
    "ax.scatter(x=dfwt[dfwt['size of neuron']=='s']['Ina at 0mV (pA)'],y=dfwt[dfwt['size of neuron']=='s']['Rs (Mohms)'],c='b',label = 'small n='+str(scount))\n",
    "ax.legend()#gives legend\n",
    "ax.set_xlabel('Ina at 0mV (pA)')\n",
    "ax.set_ylabel('Rs (Mohms)')\n",
    "ax.set_title('WT: Ina at 0mV and Rs')\n",
    "ax.grid(which ='major',alpha=0.1)\n",
    "plt.show()\n",
    "fig.savefig('/Users/bearzhang/Desktop/Beanlab/py/Beanlab/IhMfig/wtInaRs.png')"
   ]
  },
  {
   "cell_type": "code",
   "execution_count": null,
   "metadata": {
    "scrolled": true
   },
   "outputs": [],
   "source": [
    "#wt:plot Cm and rheo 0.5ms\n",
    "#Creates just a figure and only one subplot\n",
    "dfwt = df[df['genotype'] == 'WT']\n",
    "#notice the & and sum()below\n",
    "lcount = sum(np.array(dfwt['size of neuron']=='l')&np.array(pd.notnull(dfwt['rheobase (pA)'])))\n",
    "scount = sum(np.array(dfwt['size of neuron']=='s')&np.array(pd.notnull(dfwt['rheobase (pA)'])))\n",
    "\n",
    "fig, ax = plt.subplots(figsize=(10, 5))\n",
    "#plot\n",
    "ax.scatter(x=dfwt[dfwt['size of neuron']=='l']['Cm (pF)'],y=dfwt[dfwt['size of neuron']=='l']['rheobase (pA)'],c='r',label = 'large n='+str(lcount))\n",
    "ax.scatter(x=dfwt[dfwt['size of neuron']=='s']['Cm (pF)'],y=dfwt[dfwt['size of neuron']=='s']['rheobase (pA)'],c='b',label = 'small n='+str(scount))\n",
    "ax.legend()#gives legend\n",
    "ax.set_xlabel('Cm (pF)')\n",
    "ax.set_ylabel('rheobase (pA)')\n",
    "ax.set_title('WT: Cm and rheobase(single AP: 0.5ms current)')\n",
    "ax.grid(which ='major',alpha=0.1)\n",
    "plt.show()\n",
    "fig.savefig('/Users/bearzhang/Desktop/Beanlab/py/Beanlab/IhMfig/wtCmrheo0.5.png')"
   ]
  },
  {
   "cell_type": "code",
   "execution_count": null,
   "metadata": {
    "scrolled": true
   },
   "outputs": [],
   "source": [
    "#wt:plot Cm and rheo 500ms\n",
    "#Creates just a figure and only one subplot\n",
    "dfwt = df[df['genotype'] == 'WT']\n",
    "#notice the & and sum()below\n",
    "lcount = sum(np.array(dfwt['size of neuron']=='l')&np.array(pd.notnull(dfwt['rheobase (pA) 500ms'])))\n",
    "scount = sum(np.array(dfwt['size of neuron']=='s')&np.array(pd.notnull(dfwt['rheobase (pA) 500ms'])))\n",
    "\n",
    "fig, ax = plt.subplots(figsize=(10, 5))\n",
    "#plot\n",
    "ax.scatter(x=dfwt[dfwt['size of neuron']=='l']['Cm (pF)'],y=dfwt[dfwt['size of neuron']=='l']['rheobase (pA) 500ms'],c='r',label = 'large n='+str(lcount))\n",
    "ax.scatter(x=dfwt[dfwt['size of neuron']=='s']['Cm (pF)'],y=dfwt[dfwt['size of neuron']=='s']['rheobase (pA) 500ms'],c='b',label = 'small n='+str(scount))\n",
    "ax.legend()#gives legend\n",
    "ax.set_xlabel('Cm (pF)')\n",
    "ax.set_ylabel('rheobase (pA)')\n",
    "ax.set_title('WT: Cm and rheobase(500ms current)')\n",
    "ax.grid(which ='major',alpha=0.1)\n",
    "plt.show()\n",
    "fig.savefig('/Users/bearzhang/Desktop/Beanlab/py/Beanlab/IhMfig/wtCmrheo500.png')"
   ]
  },
  {
   "cell_type": "code",
   "execution_count": null,
   "metadata": {},
   "outputs": [],
   "source": [
    "#to select a cellID as label\n",
    "#dfwt[['Ih (pA)','size of neuron']]"
   ]
  },
  {
   "cell_type": "code",
   "execution_count": null,
   "metadata": {
    "scrolled": false
   },
   "outputs": [],
   "source": [
    "#wt Ih:\n",
    "dfwt = df[df['genotype'] == 'WT']\n",
    "#remove null in Ih\n",
    "dfwt = dfwt[pd.notnull(dfwt['Ih (pA)'])]\n",
    "lcount = sum(np.array(dfwt['size of neuron']=='l'))\n",
    "scount = sum(np.array(dfwt['size of neuron']=='s'))\n",
    "plt.figure(figsize=(16,8))\n",
    "for cell in dfwt.index[1:]:#ignore the first row, some how numeric list becomes a string\n",
    "    if dfwt.loc[cell,'size of neuron']=='l':\n",
    "        label = 'large n='\n",
    "        plt.plot(dfwt.loc[cell,'Ih voltage (mV)'],df.loc[cell,'Ih (pA)'], marker='o', color='r'\n",
    "                 ,linewidth=0.5,markersize=8,label = label+str(lcount) if cell =='18515cell2' else \"\")#add L example index\n",
    "    else:\n",
    "        label = 'small n='\n",
    "        plt.plot(dfwt.loc[cell,'Ih voltage (mV)'],df.loc[cell,'Ih (pA)'], marker='o', color='b'\n",
    "                 ,linewidth=0.5,markersize=8,label = label+str(scount) if cell =='18517cell5' else \"\")#add S example index\n",
    "    \n",
    "\n",
    "\n",
    "plt.axis('auto')\n",
    "plt.xlabel('voltage (mV)')\n",
    "plt.ylabel('current (pA)')\n",
    "plt.legend()\n",
    "plt.title('WT: Ih')\n",
    "plt.savefig('/Users/bearzhang/Desktop/Beanlab/py/Beanlab/IhMfig/wtIh.png')"
   ]
  },
  {
   "cell_type": "code",
   "execution_count": null,
   "metadata": {
    "scrolled": false
   },
   "outputs": [],
   "source": [
    "#wt Ih density:\n",
    "\n",
    "plt.figure(figsize=(16,8))\n",
    "dfwt = df[df['genotype'] == 'WT']\n",
    "#remove null in Ih\n",
    "dfwt = dfwt[pd.notnull(dfwt['Ih (pA)'])]\n",
    "lcount = sum(np.array(dfwt['size of neuron']=='l'))\n",
    "scount = sum(np.array(dfwt['size of neuron']=='s'))\n",
    "for cell in dfwt.index[1:]:#ignore the first row, some how numeric list becomes a string\n",
    "    if dfwt.loc[cell,'size of neuron']=='l':\n",
    "        label = 'large n='\n",
    "        Ihlist= dfwt.loc[cell,'Ih (pA)']\n",
    "        Cm = dfwt.loc[cell,'Cm (pF)']\n",
    "        denIhlist = [x / Cm for x in Ihlist]\n",
    "        plt.plot(dfwt.loc[cell,'Ih voltage (mV)'],denIhlist, marker='o', color='r'\n",
    "                 ,linewidth=0.5,markersize=8,label = label+str(lcount) if cell =='18515cell2' else \"\")#add L example index\n",
    "    else:\n",
    "        label = 'small n='\n",
    "        Ihlist= dfwt.loc[cell,'Ih (pA)']\n",
    "        Cm = dfwt.loc[cell,'Cm (pF)']\n",
    "        denIhlist = [x / Cm for x in Ihlist]\n",
    "        plt.plot(dfwt.loc[cell,'Ih voltage (mV)'],denIhlist, marker='o', color='b'\n",
    "                 ,linewidth=0.5,markersize=8, label = label+str(scount) if cell =='18517cell5' else \"\")#add S example index\n",
    "plt.axis('auto')\n",
    "plt.xlabel('voltage (mV)')\n",
    "plt.ylabel('current density (pA/pF)')\n",
    "plt.legend()\n",
    "plt.title('WT: Ih density')\n",
    "plt.savefig('/Users/bearzhang/Desktop/Beanlab/py/Beanlab/IhMfig/wtIhden.png')"
   ]
  },
  {
   "cell_type": "code",
   "execution_count": null,
   "metadata": {
    "scrolled": false
   },
   "outputs": [],
   "source": [
    "#wt M:\n",
    "plt.figure(figsize=(16,8))\n",
    "dfwt = df[df['genotype'] == 'WT']\n",
    "#remove null in Ih\n",
    "dfwt = dfwt[pd.notnull(dfwt['M current(pA)'])]\n",
    "lcount = sum(np.array(dfwt['size of neuron']=='l'))\n",
    "scount = sum(np.array(dfwt['size of neuron']=='s'))\n",
    "for cell in dfwt.index[1:]:#ignore the first row, some how numeric list becomes a string\n",
    "    if dfwt.loc[cell,'size of neuron']=='l':\n",
    "        label = 'large n='    \n",
    "        plt.plot(dfwt.loc[cell,'M current voltage (mV)'],df.loc[cell,'M current(pA)'], marker='o', color='r'\n",
    "                 ,linewidth=0.5,markersize=8,label = label+str(lcount) if cell =='18515cell2' else \"\")#add L example index\n",
    "    else:\n",
    "        label = 'small n='\n",
    "        plt.plot(dfwt.loc[cell,'M current voltage (mV)'],df.loc[cell,'M current(pA)'], marker='o', color='b'\n",
    "                 ,linewidth=0.5,markersize=8, label = label+str(scount) if cell =='18517cell5' else \"\")#add S example index\n",
    "    \n",
    "\n",
    "\n",
    "plt.axis('auto')\n",
    "plt.xlabel('voltage (mV)')\n",
    "plt.ylabel('current (pA)')\n",
    "plt.legend()\n",
    "plt.title('WT: M current')\n",
    "plt.savefig('/Users/bearzhang/Desktop/Beanlab/py/Beanlab/IhMfig/wtM.png')"
   ]
  },
  {
   "cell_type": "code",
   "execution_count": null,
   "metadata": {
    "scrolled": true
   },
   "outputs": [],
   "source": [
    "#wt M density:\n",
    "plt.figure(figsize=(16,8))\n",
    "dfwt = df[df['genotype'] == 'WT']\n",
    "#remove null in Ih\n",
    "dfwt = dfwt[pd.notnull(dfwt['Ih (pA)'])]\n",
    "lcount = sum(np.array(dfwt['size of neuron']=='l'))\n",
    "scount = sum(np.array(dfwt['size of neuron']=='s'))\n",
    "for cell in dfwt.index[1:]:#ignore the first row, some how numeric list becomes a string\n",
    "    if dfwt.loc[cell,'size of neuron']=='l':\n",
    "        label = 'large n='\n",
    "        Mlist= dfwt.loc[cell,'M current(pA)']\n",
    "        Cm = dfwt.loc[cell,'Cm (pF)']\n",
    "        denMlist = [x / Cm for x in Mlist]\n",
    "        plt.plot(dfwt.loc[cell,'M current voltage (mV)'],denMlist, marker='o', color='r'\n",
    "                 ,linewidth=0.5,markersize=8,label = label+str(lcount) if cell =='18515cell2' else \"\")#add L example index\n",
    "    else:\n",
    "        label = 'small n='\n",
    "        plt.plot(dfwt.loc[cell,'M current voltage (mV)'],denMlist, marker='o', color='b'\n",
    "                 ,linewidth=0.5,markersize=8, label = label+str(scount) if cell =='18517cell5' else \"\")#add S example index\n",
    "    \n",
    "\n",
    "\n",
    "plt.axis('auto')\n",
    "plt.xlabel('voltage (mV)')\n",
    "plt.ylabel('current density (pA/pF)')\n",
    "plt.legend()\n",
    "plt.title('WT: M density')\n",
    "plt.savefig('/Users/bearzhang/Desktop/Beanlab/py/Beanlab/IhMfig/wtMden.png')"
   ]
  },
  {
   "cell_type": "markdown",
   "metadata": {},
   "source": [
    "## plot after single AP selection"
   ]
  },
  {
   "cell_type": "code",
   "execution_count": null,
   "metadata": {
    "scrolled": true
   },
   "outputs": [],
   "source": [
    "dfap"
   ]
  },
  {
   "cell_type": "code",
   "execution_count": null,
   "metadata": {},
   "outputs": [],
   "source": [
    "#filter by existence of single AP\n",
    "dfap = df[pd.notnull(df['rheobase (pA)'])]\n",
    "#dfap\n",
    "#Bruce NB!\n",
    "dfap"
   ]
  },
  {
   "cell_type": "code",
   "execution_count": 910,
   "metadata": {
    "scrolled": true
   },
   "outputs": [
    {
     "data": {
      "image/png": "[encoded data removed]",
      "text/plain": [
       "<Figure size 720x360 with 1 Axes>"
      ]
     },
     "metadata": {},
     "output_type": "display_data"
    }
   ],
   "source": [
    "#wtap:plot Cm and RMP\n",
    "#Creates just a figure and only one subplot\n",
    "fig, ax = plt.subplots(figsize=(10, 5))\n",
    "#plot\n",
    "lcount = sum(dfap['size of neuron']=='l')\n",
    "scount = sum(dfap['size of neuron']=='s')\n",
    "ax.scatter(x=dfap[dfap['size of neuron']=='l']['Cm (pF)'],y=dfap[dfap['size of neuron']=='l']['RMP (mV)'],c='r',label = 'large n='+str(lcount))\n",
    "ax.scatter(x=dfap[dfap['size of neuron']=='s']['Cm (pF)'],y=dfap[dfap['size of neuron']=='s']['RMP (mV)'],c='b',label = 'small n='+str(scount))\n",
    "ax.legend()#gives legend\n",
    "ax.set_xlabel('Cm (pF)')\n",
    "ax.set_ylabel('RMP (mV)')\n",
    "ax.set_title('singleAP: Cm and RMP')\n",
    "ax.grid(which ='major',alpha=0.1)\n",
    "plt.show()\n",
    "fig.savefig('/Users/bearzhang/Desktop/Beanlab/py/Beanlab/IhMfig/singleAPCmRMP.png')\n"
   ]
  },
  {
   "cell_type": "code",
   "execution_count": 911,
   "metadata": {
    "scrolled": false
   },
   "outputs": [
    {
     "data": {
      "image/png": "[encoded data removed]",
      "text/plain": [
       "<Figure size 720x360 with 1 Axes>"
      ]
     },
     "metadata": {},
     "output_type": "display_data"
    }
   ],
   "source": [
    "#wtap:plot rheobase and Ina at 0mV (pA)\n",
    "#Creates just a figure and only one subplot\n",
    "fig, ax = plt.subplots(figsize=(10, 5))\n",
    "#plot\n",
    "lcount = sum(dfap['size of neuron']=='l')\n",
    "scount = sum(dfap['size of neuron']=='s')\n",
    "ax.scatter(x=dfap[dfap['size of neuron']=='l']['rheobase (pA)'],y=dfap[dfap['size of neuron']=='l']['Ina at 0mV (pA)'],c='r',label = 'large n='+str(lcount))\n",
    "ax.scatter(x=dfap[dfap['size of neuron']=='s']['rheobase (pA)'],y=dfap[dfap['size of neuron']=='s']['Ina at 0mV (pA)'],c='b',label = 'small n='+str(scount))\n",
    "ax.legend()#gives legend\n",
    "ax.set_xlabel('rheobase (pA)')\n",
    "ax.set_ylabel('Ina at 0mV (pA)')\n",
    "ax.set_title('singleAP: rheobase and Ina')\n",
    "ax.grid(which ='major',alpha=0.1)\n",
    "plt.show()\n",
    "fig.savefig('/Users/bearzhang/Desktop/Beanlab/py/Beanlab/IhMfig/singleAPrheobaseIna.png')\n"
   ]
  },
  {
   "cell_type": "markdown",
   "metadata": {},
   "source": [
    "### From figures above, the standard for selecting large single AP neuron: \n",
    "1. Ina>6000pA\n",
    "2. RMP<-55mV (before correction)"
   ]
  },
  {
   "cell_type": "code",
   "execution_count": null,
   "metadata": {
    "scrolled": false
   },
   "outputs": [],
   "source": [
    "#dfap Ih:\n",
    "#remove null in Ih\n",
    "dfap = dfap[pd.notnull(dfap['Ih (pA)'])]\n",
    "lcount = sum(np.array(dfap['size of neuron']=='l'))\n",
    "scount = sum(np.array(dfap['size of neuron']=='s'))\n",
    "plt.figure(figsize=(16,8))\n",
    "for cell in dfap.index[1:]:#ignore the first row, some how numeric list becomes a string\n",
    "    if dfap.loc[cell,'size of neuron']=='l':\n",
    "        label = 'large n='\n",
    "        plt.plot(dfap.loc[cell,'Ih voltage (mV)'],dfap.loc[cell,'Ih (pA)'], marker='o', color='r'\n",
    "                 ,linewidth=0.5,markersize=8,label = label+str(lcount) if cell =='18518cell5' else \"\")#add L example index\n",
    "    else:\n",
    "        label = 'small n='\n",
    "        plt.plot(dfap.loc[cell,'Ih voltage (mV)'],dfap.loc[cell,'Ih (pA)'], marker='o', color='b'\n",
    "                 ,linewidth=0.5,markersize=8,label = label+str(scount) if cell =='18517cell5' else \"\")#add S example index\n",
    "    \n",
    "\n",
    "\n",
    "plt.axis('auto')\n",
    "plt.xlabel('voltage (mV)')\n",
    "plt.ylabel('current (pA)')\n",
    "plt.legend()\n",
    "plt.title('singleAP:Ih')\n",
    "plt.savefig('/Users/bearzhang/Desktop/Beanlab/py/Beanlab/IhMfig/singleAPIh.png')"
   ]
  },
  {
   "cell_type": "code",
   "execution_count": null,
   "metadata": {
    "scrolled": true
   },
   "outputs": [],
   "source": [
    "#dfap Ih density:\n",
    "#remove null in Ih\n",
    "dfap = dfap[pd.notnull(dfap['Ih (pA)'])]\n",
    "lcount = sum(np.array(dfap['size of neuron']=='l'))\n",
    "scount = sum(np.array(dfap['size of neuron']=='s'))\n",
    "plt.figure(figsize=(16,8))\n",
    "for cell in dfap.index[1:]:#ignore the first row, some how numeric list becomes a string\n",
    "    if dfap.loc[cell,'size of neuron']=='l':\n",
    "        label = 'large n='\n",
    "        Ihlist= dfap.loc[cell,'Ih (pA)']\n",
    "        Cm = dfap.loc[cell,'Cm (pF)']\n",
    "        denIhlist = [x / Cm for x in Ihlist]\n",
    "        plt.plot(dfap.loc[cell,'Ih voltage (mV)'],denIhlist, marker='o', color='r'\n",
    "                 ,linewidth=0.5,markersize=8,label = label+str(lcount) if cell =='18518cell5' else \"\")#add L example index\n",
    "    else:\n",
    "        label = 'small n='\n",
    "        Ihlist= dfap.loc[cell,'Ih (pA)']\n",
    "        Cm = dfap.loc[cell,'Cm (pF)']\n",
    "        denIhlist = [x / Cm for x in Ihlist]\n",
    "        plt.plot(dfap.loc[cell,'Ih voltage (mV)'],denIhlist, marker='o', color='b'\n",
    "                 ,linewidth=0.5,markersize=8,label = label+str(scount) if cell =='18517cell5' else \"\")#add S example index\n",
    "    \n",
    "\n",
    "\n",
    "plt.axis('auto')\n",
    "plt.xlabel('voltage (mV)')\n",
    "plt.ylabel('current density (pA/pF)')\n",
    "plt.legend()\n",
    "plt.title('singleAP:Ih density')\n",
    "plt.savefig('/Users/bearzhang/Desktop/Beanlab/py/Beanlab/IhMfig/singleAPIhden.png')"
   ]
  },
  {
   "cell_type": "code",
   "execution_count": 907,
   "metadata": {
    "scrolled": false
   },
   "outputs": [
    {
     "data": {
      "image/png": "[encoded data removed]",
      "text/plain": [
       "<Figure size 1152x576 with 1 Axes>"
      ]
     },
     "metadata": {},
     "output_type": "display_data"
    }
   ],
   "source": [
    "#dfap M:\n",
    "#remove null in M\n",
    "dfap = dfap[pd.notnull(dfap['M current(pA)'])]\n",
    "lcount = sum(np.array(dfap['size of neuron']=='l'))\n",
    "scount = sum(np.array(dfap['size of neuron']=='s'))\n",
    "plt.figure(figsize=(16,8))\n",
    "for cell in dfap.index[1:]:#ignore the first row, some how numeric list becomes a string\n",
    "    if dfap.loc[cell,'size of neuron']=='l':\n",
    "        label = 'large n='\n",
    "        plt.plot(dfap.loc[cell,'M current voltage (mV)'],dfap.loc[cell,'M current(pA)'], marker='o', color='r'\n",
    "                 ,linewidth=0.5,markersize=8,label = label+str(lcount) if cell =='18518cell5' else \"\")#add L example index\n",
    "    else:\n",
    "        label = 'small n='\n",
    "        plt.plot(dfap.loc[cell,'M current voltage (mV)'],dfap.loc[cell,'M current(pA)'], marker='o', color='b'\n",
    "                 ,linewidth=0.5,markersize=8,label = label+str(scount) if cell =='18517cell5' else \"\")#add S example index\n",
    "    \n",
    "\n",
    "\n",
    "plt.axis('auto')\n",
    "plt.xlabel('voltage (mV)')\n",
    "plt.ylabel('current (pA)')\n",
    "plt.legend()\n",
    "plt.title('singleAP:M')\n",
    "plt.savefig('/Users/bearzhang/Desktop/Beanlab/py/Beanlab/IhMfig/singleAPM.png')"
   ]
  },
  {
   "cell_type": "code",
   "execution_count": 908,
   "metadata": {
    "scrolled": true
   },
   "outputs": [
    {
     "data": {
      "image/png": "[encoded data removed]",
      "text/plain": [
       "<Figure size 1152x576 with 1 Axes>"
      ]
     },
     "metadata": {},
     "output_type": "display_data"
    }
   ],
   "source": [
    "#dfap M density:\n",
    "#remove null in Ih\n",
    "dfap = dfap[pd.notnull(dfap['M current(pA)'])]\n",
    "lcount = sum(np.array(dfap['size of neuron']=='l'))\n",
    "scount = sum(np.array(dfap['size of neuron']=='s'))\n",
    "plt.figure(figsize=(16,8))\n",
    "for cell in dfap.index[1:]:#ignore the first row, some how numeric list becomes a string\n",
    "    if dfap.loc[cell,'size of neuron']=='l':\n",
    "        label = 'large n='\n",
    "        Mlist= dfap.loc[cell,'M current(pA)']\n",
    "        Cm = dfap.loc[cell,'Cm (pF)']\n",
    "        denMlist = [x / Cm for x in Mlist]\n",
    "        plt.plot(dfap.loc[cell,'M current voltage (mV)'],denMlist, marker='o', color='r'\n",
    "                 ,linewidth=0.5,markersize=8,label = label+str(lcount) if cell =='18518cell5' else \"\")#add L example index\n",
    "    else:\n",
    "        label = 'small n='\n",
    "        Mlist= dfap.loc[cell,'M current(pA)']\n",
    "        Cm = dfap.loc[cell,'Cm (pF)']\n",
    "        denMlist = [x / Cm for x in Mlist]\n",
    "        plt.plot(dfap.loc[cell,'M current voltage (mV)'],denMlist, marker='o', color='b'\n",
    "                 ,linewidth=0.5,markersize=8,label = label+str(scount) if cell =='18517cell5' else \"\")#add S example index\n",
    "    \n",
    "\n",
    "\n",
    "plt.axis('auto')\n",
    "plt.xlabel('voltage (mV)')\n",
    "plt.ylabel('current density (pA/pF)')\n",
    "plt.legend()\n",
    "plt.title('singleAP:M density')\n",
    "plt.savefig('/Users/bearzhang/Desktop/Beanlab/py/Beanlab/IhMfig/singleAPMden.png')"
   ]
  },
  {
   "cell_type": "markdown",
   "metadata": {},
   "source": [
    "## shank plot"
   ]
  },
  {
   "cell_type": "code",
   "execution_count": null,
   "metadata": {
    "scrolled": false
   },
   "outputs": [],
   "source": [
    "#Shank:plot Cm and Rin\n",
    "\n",
    "#update dfshnk\n",
    "dfshnk = df[df['genotype'] != 'WT']\n",
    "#Creates just a figure and only one subplot\n",
    "fig, ax = plt.subplots(figsize=(10, 5))\n",
    "#plot\n",
    "\n",
    "ax.scatter(x=dfshnk[dfshnk['genotype']=='412.2']['Cm (pF)'],y=dfshnk[dfshnk['genotype']=='412.2']['Rin (Mohm)'],c='r',label = 'mouse#2')\n",
    "ax.scatter(x=dfshnk[dfshnk['genotype']=='412.3']['Cm (pF)'],y=dfshnk[dfshnk['genotype']=='412.3']['Rin (Mohm)'],c='b',label = 'mouse#3')\n",
    "ax.legend()#gives legend\n",
    "ax.set_xlabel('Cm (pF)')\n",
    "ax.set_ylabel('Rin (Mohm)')\n",
    "ax.set_title('Shank: Cm and Rin')\n",
    "ax.grid(which ='major',alpha=0.1)\n",
    "plt.show()\n",
    "fig.savefig('/Users/bearzhang/Desktop/Beanlab/py/Beanlab/IhMfig/shnkCmRin.png')"
   ]
  },
  {
   "cell_type": "code",
   "execution_count": null,
   "metadata": {},
   "outputs": [],
   "source": [
    "dfshnk"
   ]
  },
  {
   "cell_type": "code",
   "execution_count": null,
   "metadata": {
    "scrolled": true
   },
   "outputs": [],
   "source": [
    "#Shank:plot Cm and rheobase pA\n",
    "\n",
    "#update dfshnk\n",
    "dfshnk = df[df['genotype'] != 'WT']\n",
    "#Creates just a figure and only one subplot\n",
    "fig, ax = plt.subplots(figsize=(10, 5))\n",
    "#plot\n",
    "\n",
    "ax.scatter(x=dfshnk[dfshnk['genotype']=='412.2']['Cm (pF)'],y=dfshnk[dfshnk['genotype']=='412.2']['rheobase (pA) 500ms'],c='r',label = 'mouse#2')\n",
    "ax.scatter(x=dfshnk[dfshnk['genotype']=='412.3']['Cm (pF)'],y=dfshnk[dfshnk['genotype']=='412.3']['rheobase (pA) 500ms'],c='b',label = 'mouse#3')\n",
    "ax.legend()#gives legend\n",
    "ax.set_xlabel('Cm (pF)')\n",
    "ax.set_ylabel('current (pA)')\n",
    "ax.set_title('Shank: Cm and rheobase(500ms current)')\n",
    "ax.grid(which ='major',alpha=0.1)\n",
    "plt.show()\n",
    "fig.savefig('/Users/bearzhang/Desktop/Beanlab/py/Beanlab/IhMfig/shnkCmrheo500ms.png')"
   ]
  },
  {
   "cell_type": "code",
   "execution_count": null,
   "metadata": {
    "scrolled": false
   },
   "outputs": [],
   "source": [
    "#Shank:plot 'Ina at 0mV (pA)' 'Rs (Mohms)'\n",
    "#Creates just a figure and only one subplot\n",
    "fig, ax = plt.subplots(figsize=(10, 5))\n",
    "#plot\n",
    "ax.scatter(x=dfshnk[dfshnk['genotype']=='412.2']['Ina at 0mV (pA)'],y=dfshnk[dfshnk['genotype']=='412.2']['Rs (Mohms)'],c='r',label = 'mouse#2')\n",
    "ax.scatter(x=dfshnk[dfshnk['genotype']=='412.3']['Ina at 0mV (pA)'],y=dfshnk[dfshnk['genotype']=='412.3']['Rs (Mohms)'],c='b',label = 'mouse#3')\n",
    "ax.legend()#gives legend\n",
    "ax.set_xlabel('Ina at 0mV (pA)')\n",
    "ax.set_ylabel('Rs (Mohms)')\n",
    "ax.set_title('Shank: Ina at 0mV and Rs')\n",
    "ax.grid(which ='major',alpha=0.1)\n",
    "plt.show()\n",
    "fig.savefig('/Users/bearzhang/Desktop/Beanlab/py/Beanlab/IhMfig/shnkRsIna.png')"
   ]
  },
  {
   "cell_type": "code",
   "execution_count": null,
   "metadata": {
    "scrolled": false
   },
   "outputs": [],
   "source": [
    "#shank Ih:\n",
    "plt.figure(figsize=(16,8))\n",
    "for cell in dfshnk.index:#ignore the first row, some how numeric list becomes a string\n",
    "    if dfshnk.loc[cell,'genotype']=='412.2':\n",
    "        label = 'mouse#2'\n",
    "        plt.plot(dfshnk.loc[cell,'Ih voltage (mV)'],dfshnk.loc[cell,'Ih (pA)'], marker='o', color='r',linewidth=0.5,markersize=8,label = label if cell =='18414cell20' else \"\")#add 412.2 example index\n",
    "    else:\n",
    "        label = 'mouse#3'\n",
    "        plt.plot(dfshnk.loc[cell,'Ih voltage (mV)'],dfshnk.loc[cell,'Ih (pA)'], marker='o', color='b',linewidth=0.5,markersize=8,label = label if cell =='18414cell21' else \"\")#add 413.3 example index\n",
    "    \n",
    "\n",
    "\n",
    "#plt.axis('auto')\n",
    "plt.xlabel('voltage (mV)')\n",
    "plt.ylabel('current (pA)')\n",
    "plt.legend()\n",
    "plt.title('Shank: Ih')\n",
    "plt.savefig('/Users/bearzhang/Desktop/Beanlab/py/Beanlab/IhMfig/shnkIh.png')"
   ]
  },
  {
   "cell_type": "code",
   "execution_count": null,
   "metadata": {
    "scrolled": false
   },
   "outputs": [],
   "source": [
    "#shank Ih density:\n",
    "plt.figure(figsize=(16,8))\n",
    "for cell in dfshnk.index:#ignore the first row, some how numeric list becomes a string\n",
    "    if dfshnk.loc[cell,'genotype']=='412.2':\n",
    "        label = 'mouse#2'\n",
    "        Ihlist= dfshnk.loc[cell,'Ih (pA)']\n",
    "        Cm = dfshnk.loc[cell,'Cm (pF)']\n",
    "        denIhlist = [x / Cm for x in Ihlist]\n",
    "        plt.plot(dfshnk.loc[cell,'Ih voltage (mV)'],denIhlist, marker='o', color='r',linewidth=0.5,markersize=8,label = label if cell =='18414cell20' else \"\")#add 412.2 example index\n",
    "    else:\n",
    "        label = 'mouse#3'\n",
    "        Ihlist= dfshnk.loc[cell,'Ih (pA)']\n",
    "        Cm = dfshnk.loc[cell,'Cm (pF)']\n",
    "        denIhlist = [x / Cm for x in Ihlist]\n",
    "        plt.plot(dfshnk.loc[cell,'Ih voltage (mV)'],denIhlist, marker='o', color='b',linewidth=0.5,markersize=8,label = label if cell =='18414cell21' else \"\")#add 413.3 example index\n",
    "    \n",
    "\n",
    "\n",
    "#plt.axis('auto')\n",
    "plt.xlabel('voltage (mV)')\n",
    "plt.ylabel('current density (pA/pF)')\n",
    "plt.legend()\n",
    "plt.title('Shank: Ih density')\n",
    "plt.savefig('/Users/bearzhang/Desktop/Beanlab/py/Beanlab/IhMfig/shnkIhden.png')"
   ]
  },
  {
   "cell_type": "code",
   "execution_count": null,
   "metadata": {
    "scrolled": true
   },
   "outputs": [],
   "source": [
    "#shank M:\n",
    "plt.figure(figsize=(16,8))\n",
    "for cell in dfshnk.index:#ignore the first row, some how numeric list becomes a string\n",
    "    if dfshnk.loc[cell,'genotype']=='412.2':\n",
    "        label = 'mouse#2'\n",
    "        plt.plot(dfshnk.loc[cell,'M current voltage (mV)'],dfshnk.loc[cell,'M current(pA)'], marker='o', color='r',linewidth=0.5,markersize=8,label = label if cell =='18414cell20' else \"\")#add 412.2 example index\n",
    "    else:\n",
    "        label = 'mouse#3'\n",
    "        plt.plot(dfshnk.loc[cell,'M current voltage (mV)'],dfshnk.loc[cell,'M current(pA)'], marker='o', color='b',linewidth=0.5,markersize=8,label = label if cell =='18414cell21' else \"\")#add 413.3 example index\n",
    "    \n",
    "\n",
    "\n",
    "#plt.axis('auto')\n",
    "plt.xlabel('voltage (mV)')\n",
    "plt.ylabel('current (pA)')\n",
    "plt.legend()\n",
    "plt.title('Shank: M current')\n",
    "plt.savefig('/Users/bearzhang/Desktop/Beanlab/py/Beanlab/IhMfig/shnkM.png')"
   ]
  },
  {
   "cell_type": "code",
   "execution_count": null,
   "metadata": {
    "scrolled": true
   },
   "outputs": [],
   "source": [
    "#shank M density:\n",
    "plt.figure(figsize=(16,8))\n",
    "for cell in dfshnk.index:#ignore the first row, some how numeric list becomes a string\n",
    "    if dfshnk.loc[cell,'genotype']=='412.2':\n",
    "        label = 'mouse#2'\n",
    "        Mlist= dfshnk.loc[cell,'M current(pA)']\n",
    "        Cm = dfshnk.loc[cell,'Cm (pF)']\n",
    "        denMlist = [x / Cm for x in Ihlist]\n",
    "        plt.plot(dfshnk.loc[cell,'M current voltage (mV)'],denMlist, marker='o', color='r',linewidth=0.5,markersize=8,label = label if cell =='18414cell20' else \"\")#add 412.2 example index\n",
    "    else:\n",
    "        label = 'mouse#3'\n",
    "        Ihlist= dfshnk.loc[cell,'M current(pA)']\n",
    "        Cm = dfshnk.loc[cell,'Cm (pF)']\n",
    "        denMlist = [x / Cm for x in Ihlist]\n",
    "        plt.plot(dfshnk.loc[cell,'M current voltage (mV)'],denMlist, marker='o', color='b',linewidth=0.5,markersize=8,label = label if cell =='18414cell21' else \"\")#add 413.3 example index\n",
    "    \n",
    "\n",
    "\n",
    "#plt.axis('auto')\n",
    "plt.xlabel('voltage (mV)')\n",
    "plt.ylabel('current density (pA/pF)')\n",
    "plt.legend()\n",
    "plt.title('Shank: Mcurrent density')\n",
    "plt.savefig('/Users/bearzhang/Desktop/Beanlab/py/Beanlab/IhMfig/shnkMden.png')"
   ]
  },
  {
   "cell_type": "code",
   "execution_count": null,
   "metadata": {
    "collapsed": true
   },
   "outputs": [],
   "source": [
    "#this block is to plot M with matplotlib\n",
    "plt.plot(df.loc['18518cell3','M current voltage (mV)'],df.loc['18518cell3','M current(pA)'], marker='o', color='r')\n",
    "plt.axis('auto')\n",
    "plt.xlabel('voltage (mV)')\n",
    "plt.ylabel('current (pA)')\n",
    "plt.title('M')"
   ]
  },
  {
   "cell_type": "code",
   "execution_count": null,
   "metadata": {
    "collapsed": true
   },
   "outputs": [],
   "source": [
    "# This block is to plot an interactive scatter plot use R, plotly package. \n",
    "#By now, I found plotly in R is more useful than python.\n",
    "\n",
    "'''\n",
    "#install R rpy2\n",
    "#!conda install --yes --prefix {sys.prefix} rpy2\n",
    "#%load_ext rpy2.ipython\n",
    "%R require(ggplot2)\n",
    "%R require(plotly)\n",
    "#R import data from python\n",
    "%%R -i df'''\n"
   ]
  },
  {
   "cell_type": "code",
   "execution_count": null,
   "metadata": {
    "collapsed": true
   },
   "outputs": [],
   "source": [
    "#decide a sweep you want to work on and show the swp ,given\n",
    "SwpNm = int(input('Enter the number of sweep you are interested in: '+'from '+brkthru.ID+cellID))\n",
    "brkthru.setSweep(SwpNm-1) #in python sweeps numbers start at 0, IgoR at 1\n",
    "voltage=brkthru.dataC\n",
    "time=brkthru.dataX\n",
    "current=brkthru.dataY\n",
    "\n",
    "plt.figure('voltage',figsize=(15,8))\n",
    "plt.plot(time,voltage, color = 'k')\n",
    "plt.xlabel('time (s)', fontsize=14, color='black')\n",
    "plt.ylabel('command (mV)', fontsize=14, color='black')\n",
    "plt.title(date+cellID+'voltage at sweep'+str(SwpNm),fontsize=14, color='black')\n",
    "\n",
    "plt.figure('Ina at 0mV current',figsize=(15,8))\n",
    "plt.plot(time,current, color ='r')\n",
    "plt.xlabel('time (s)', fontsize=14, color='black')\n",
    "plt.ylabel('current (pA)', fontsize=14, color='black')\n",
    "plt.title(date+cellID+'current at sweep'+str(SwpNm),fontsize=14, color='black')"
   ]
  }
 ],
 "metadata": {
  "kernelspec": {
   "display_name": "Python 3",
   "language": "python",
   "name": "python3"
  },
  "language_info": {
   "codemirror_mode": {
    "name": "ipython",
    "version": 3
   },
   "file_extension": ".py",
   "mimetype": "text/x-python",
   "name": "python",
   "nbconvert_exporter": "python",
   "pygments_lexer": "ipython3",
   "version": "3.6.1"
  }
 },
 "nbformat": 4,
 "nbformat_minor": 2
}
