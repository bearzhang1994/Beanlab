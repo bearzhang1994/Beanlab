{
 "cells": [
  {
   "cell_type": "code",
   "execution_count": 23,
   "metadata": {
    "collapsed": true
   },
   "outputs": [],
   "source": [
    "\n",
    "#install packages\n",
    "%matplotlib inline\n",
    "import pyabf\n",
    "import os\n",
    "import sys\n",
    "import numpy as np\n",
    "import matplotlib.pyplot as plt\n",
    "import pandas as pd\n",
    "from IPython.display import display"
   ]
  },
  {
   "cell_type": "code",
   "execution_count": 24,
   "metadata": {
    "collapsed": true
   },
   "outputs": [
    {
     "data": {
      "text/plain": [
       "'/Users/bearzhang/Desktop/Beanlab/python_ephys'"
      ]
     },
     "execution_count": 24,
     "metadata": {},
     "output_type": "execute_result"
    }
   ],
   "source": [
    "#check and set working directory\n",
    "os.getcwd()\n",
    "os.chdir('/Users/bearzhang/Desktop/Beanlab/python_ephys')\n",
    "os.getcwd()"
   ]
  },
  {
   "cell_type": "code",
   "execution_count": 25,
   "metadata": {
    "collapsed": true
   },
   "outputs": [
    {
     "data": {
      "text/plain": [
       "921"
      ]
     },
     "execution_count": 25,
     "metadata": {},
     "output_type": "execute_result"
    }
   ],
   "source": [
    "#check files\n",
    "len(os.listdir())"
   ]
  },
  {
   "cell_type": "code",
   "execution_count": 26,
   "metadata": {
    "collapsed": true
   },
   "outputs": [],
   "source": [
    "#recover stored object from %store\n",
    "\n",
    "# -r for refreshing everything\n",
    "#%store -r\n",
    "# -r objname for refreshing specific variable name\n",
    "#delete stored object:%store -d or %store -z delete all \n",
    "#display(df)"
   ]
  },
  {
   "cell_type": "code",
   "execution_count": 16,
   "metadata": {
    "collapsed": true
   },
   "outputs": [
    {
     "data": {
      "text/html": [
       "<div>\n",
       "<style>\n",
       "    .dataframe thead tr:only-child th {\n",
       "        text-align: right;\n",
       "    }\n",
       "\n",
       "    .dataframe thead th {\n",
       "        text-align: left;\n",
       "    }\n",
       "\n",
       "    .dataframe tbody tr th {\n",
       "        vertical-align: top;\n",
       "    }\n",
       "</style>\n",
       "<table border=\"1\" class=\"dataframe\">\n",
       "  <thead>\n",
       "    <tr style=\"text-align: right;\">\n",
       "      <th></th>\n",
       "      <th>date</th>\n",
       "      <th>cellID</th>\n",
       "      <th>genotype</th>\n",
       "      <th>Cm (pF)</th>\n",
       "      <th>RMP (mV)</th>\n",
       "      <th>Ina at 0mV (pA)</th>\n",
       "      <th>Rs (Mohms)</th>\n",
       "      <th>Rin (Mohm)</th>\n",
       "      <th>Ih (pA)</th>\n",
       "      <th>Ih voltage (mV)</th>\n",
       "      <th>M current(pA)</th>\n",
       "      <th>M current voltage (mV)</th>\n",
       "      <th>c(ulture)/f(ridge)/k(nown)</th>\n",
       "      <th>size of neuron</th>\n",
       "      <th>comment</th>\n",
       "      <th>rheobase (pA)</th>\n",
       "    </tr>\n",
       "  </thead>\n",
       "  <tbody>\n",
       "    <tr>\n",
       "      <th>18518cell3</th>\n",
       "      <td>NaN</td>\n",
       "      <td>cell3</td>\n",
       "      <td>WT</td>\n",
       "      <td>27.3</td>\n",
       "      <td>-65.2</td>\n",
       "      <td>-6904.297</td>\n",
       "      <td>11.8</td>\n",
       "      <td>170.0</td>\n",
       "      <td>[-15.61, -46.21, -44.17, -61.65, 22.16]</td>\n",
       "      <td>[-70, -80, -90, -100, -110]</td>\n",
       "      <td>[252.16, 92.01, 31.45, -15.61]</td>\n",
       "      <td>[-40, -50, -60, -70]</td>\n",
       "      <td>c</td>\n",
       "      <td>L</td>\n",
       "      <td>NaN</td>\n",
       "      <td>NaN</td>\n",
       "    </tr>\n",
       "  </tbody>\n",
       "</table>\n",
       "</div>"
      ],
      "text/plain": [
       "            date cellID genotype  Cm (pF)  RMP (mV)  Ina at 0mV (pA)  \\\n",
       "18518cell3   NaN  cell3       WT     27.3     -65.2        -6904.297   \n",
       "\n",
       "            Rs (Mohms)  Rin (Mohm)                                  Ih (pA)  \\\n",
       "18518cell3        11.8       170.0  [-15.61, -46.21, -44.17, -61.65, 22.16]   \n",
       "\n",
       "                        Ih voltage (mV)                   M current(pA)  \\\n",
       "18518cell3  [-70, -80, -90, -100, -110]  [252.16, 92.01, 31.45, -15.61]   \n",
       "\n",
       "           M current voltage (mV) c(ulture)/f(ridge)/k(nown) size of neuron  \\\n",
       "18518cell3   [-40, -50, -60, -70]                          c              L   \n",
       "\n",
       "            comment  rheobase (pA)  \n",
       "18518cell3      NaN            NaN  "
      ]
     },
     "execution_count": 16,
     "metadata": {},
     "output_type": "execute_result"
    }
   ],
   "source": [
    "#read csv, index_col='Unnamed: 0' is to read first row as index\n",
    "df = pd.read_csv('IhM.csv',index_col='Unnamed: 0')\n",
    "df"
   ]
  },
  {
   "cell_type": "code",
   "execution_count": null,
   "metadata": {
    "collapsed": true
   },
   "outputs": [],
   "source": [
    "#write df into a csv\n",
    "df.to_csv('IhM.csv')\n",
    "#store everything you want to store here\n",
    "%store df \n",
    "%store"
   ]
  },
  {
   "cell_type": "code",
   "execution_count": 175,
   "metadata": {
    "collapsed": true
   },
   "outputs": [],
   "source": [
    "# function to calculate downward/upward peak from a certain range(leftend,rightend)\n",
    "def downpeak(trace,tp):\n",
    "    '''lo, hi = input(\"Enter the range of peak (unit:s)(seperate by one space): \").split()\n",
    "    lo = int(float(lo)*100000)\n",
    "    hi = int(float(hi)*100000)'''\n",
    "    #for 18501 and after:\n",
    "    #lo = int(0.52*100000)\n",
    "    #hi = int(0.53*100000)\n",
    "    #for 18501 before\n",
    "    lo = int(0.135*100000)\n",
    "    hi = int(0.145*100000)\n",
    "    peak = min(trace[lo:hi])\n",
    "    if tp == 'VC':\n",
    "        print('peak value from point',lo,'to point',hi,'is',peak,'pA')\n",
    "        print('figure of voltage command and recoded current is shown below')\n",
    "    else:\n",
    "        print('peak value from point',lo,'to point',hi,'is',peak,'mV')\n",
    "        print('figure of recorded voltage and current command is shown below')\n",
    "        \n",
    "    plt.figure('voltage',figsize=(15,8))\n",
    "    plt.plot(time[lo:hi],voltage[lo:hi],color='k')\n",
    "    plt.xlabel('time (s)', fontsize=14, color='black')\n",
    "    plt.ylabel('voltage (mV)', fontsize=14, color='black')\n",
    "    plt.title(date+cellID+'voltage at sweep'+str(SwpNm),fontsize=14, color='black')\n",
    "    \n",
    "    plt.figure('current',figsize=(15,8))\n",
    "    plt.plot(time[lo:hi],current[lo:hi],color='r')\n",
    "    plt.xlabel('time (s)', fontsize=14, color='black')\n",
    "    plt.ylabel('current (pA)', fontsize=14, color='black')\n",
    "    plt.title(date+cellID+'current at sweep'+str(SwpNm),fontsize=14, color='black')\n",
    "    return(peak)\n",
    "\n",
    "\n",
    "def uppeak():\n",
    "    lo, hi = input(\"Enter the range of peak (unit s): \").split()\n",
    "    peak = max(trace[lo:hi])\n",
    "    peak = min(trace[lo:hi])\n",
    "    if tp == 'VC':\n",
    "        print('peak value from point',lo,'to point',hi,'is',peak,'pA')\n",
    "        print('figure of voltage command and recoded current is shown below')\n",
    "    else:\n",
    "        print('peak value from point',lo,'to point',hi,'is',peak,'mV')\n",
    "        print('figure of recorded voltage and current command is shown below')\n",
    "        \n",
    "    plt.figure('voltage',figsize=(15,8))\n",
    "    plt.plot(time[lo:hi],voltage[lo:hi],color='k')\n",
    "    plt.xlabel('time (s)', fontsize=14, color='black')\n",
    "    plt.ylabel('voltage (mV)', fontsize=14, color='black')\n",
    "    plt.title('voltage at sweep'+str(SwpNm),fontsize=14, color='black')\n",
    "    \n",
    "    plt.figure('current',figsize=(15,8))\n",
    "    plt.plot(time[lo:high],current[lo:high],color='b')\n",
    "    plt.xlabel('time (s)', fontsize=14, color='black')\n",
    "    plt.ylabel('current (pA)', fontsize=14, color='black')\n",
    "    plt.title('current at sweep'+str(SwpNm),fontsize=14, color='black')\n",
    "    return(peak)\n",
    "\n",
    "# this block make a function for calculate the amplitude difference between two ranges of a trace (average(leftrange)-average(rightrange))\n",
    "# for VC mode, trace0: current recorded; trace1: voltage command\n",
    "def diff(trace0,trace1):\n",
    "    rlo, rhi = input(\"Enter the range of right end range (unit:s)(seperate by one space): \").split()\n",
    "    llo, lhi = input(\"Enter the range of left end range (unit:s)(seperate by one space): \").split()\n",
    "    rlo = int(float(rlo)*100000)\n",
    "    rhi = int(float(rhi)*100000)\n",
    "    llo = int(float(llo)*100000)\n",
    "    lhi = int(float(lhi)*100000)\n",
    "    \n",
    "    diff0 = sum(trace0[llo:lhi])/len(trace0[llo:lhi]) - sum(trace0[rlo:rhi])/len(trace0[rlo:rhi])\n",
    "    diff0 = round(diff0,2)\n",
    "    ave1 = sum(trace1[llo:lhi]+trace1[rlo:rhi])/len(trace1[llo:lhi]+trace1[rlo:rhi])\n",
    "    print('amplitude difference between two ranges in trace0 is ', diff0)\n",
    "    print('the average command of two ranges in trace1 is', ave1)\n",
    "    return(diff0,ave1)\n",
    "\n",
    "def diffIhM(trace0,llo,lhi,rlo,rhi):\n",
    "    \n",
    "    diff0 = sum(trace0[llo:lhi])/len(trace0[llo:lhi]) - sum(trace0[rlo:rhi])/len(trace0[rlo:rhi])\n",
    "    diff0 = round(diff0,2)\n",
    "\n",
    "    #ave1 = 0.5*(sum(trace1[llo:lhi])/len(trace1[llo:lhi])+sum(trace1[rlo:rhi])/len(trace1[rlo:rhi]))\n",
    "    #print('amplitude difference between two ranges in trace0 is ', diff0)\n",
    "    #print('the average command of two ranges in trace1 is', ave1)\n",
    "    return(diff0)\n"
   ]
  },
  {
   "cell_type": "code",
   "execution_count": 29,
   "metadata": {
    "collapsed": true
   },
   "outputs": [
    {
     "data": {
      "text/plain": [
       "['date',\n",
       " 'cellID',\n",
       " 'genotype',\n",
       " 'Cm (pF)',\n",
       " 'RMP (mV)',\n",
       " 'Ina at 0mV (pA)',\n",
       " 'Rs (Mohms)',\n",
       " 'Rin (Mohm)',\n",
       " 'Ih (pA)',\n",
       " 'Ih voltage (mV)',\n",
       " 'M current(pA)',\n",
       " 'M current voltage (mV)',\n",
       " 'c(ulture)/f(ridge)/k(nown)',\n",
       " 'size of neuron',\n",
       " 'comment',\n",
       " 'rheobase (pA)']"
      ]
     },
     "execution_count": 29,
     "metadata": {},
     "output_type": "execute_result"
    }
   ],
   "source": [
    "#make a list of all the features\n",
    "colname = ['date','cellID','genotype','Cm (pF)','RMP (mV)','Ina at 0mV (pA)','Rs (Mohms)','Rin (Mohm)','Ih (pA)','Ih voltage (mV)','M current(pA)','M current voltage (mV)','c(ulture)/f(ridge)/k(nown)','size of neuron','comment','rheobase (pA)']\n",
    "colname "
   ]
  },
  {
   "cell_type": "code",
   "execution_count": null,
   "metadata": {
    "collapsed": true
   },
   "outputs": [],
   "source": [
    "#create a new dataframe, if df already exists, skip this block\n",
    "#df = pd.DataFrame(columns = colname)\n",
    "#df"
   ]
  },
  {
   "cell_type": "code",
   "execution_count": 232,
   "metadata": {
    "collapsed": true
   },
   "outputs": [
    {
     "ename": "KeyboardInterrupt",
     "evalue": "",
     "output_type": "error",
     "traceback": [
      "\u001b[0;31m---------------------------------------------------------------------------\u001b[0m",
      "\u001b[0;31mKeyboardInterrupt\u001b[0m                         Traceback (most recent call last)",
      "\u001b[0;32m/Users/bearzhang/anaconda/lib/python3.6/site-packages/ipykernel/kernelbase.py\u001b[0m in \u001b[0;36m_input_request\u001b[0;34m(self, prompt, ident, parent, password)\u001b[0m\n\u001b[1;32m    729\u001b[0m             \u001b[0;32mtry\u001b[0m\u001b[0;34m:\u001b[0m\u001b[0;34m\u001b[0m\u001b[0m\n\u001b[0;32m--> 730\u001b[0;31m                 \u001b[0mident\u001b[0m\u001b[0;34m,\u001b[0m \u001b[0mreply\u001b[0m \u001b[0;34m=\u001b[0m \u001b[0mself\u001b[0m\u001b[0;34m.\u001b[0m\u001b[0msession\u001b[0m\u001b[0;34m.\u001b[0m\u001b[0mrecv\u001b[0m\u001b[0;34m(\u001b[0m\u001b[0mself\u001b[0m\u001b[0;34m.\u001b[0m\u001b[0mstdin_socket\u001b[0m\u001b[0;34m,\u001b[0m \u001b[0;36m0\u001b[0m\u001b[0;34m)\u001b[0m\u001b[0;34m\u001b[0m\u001b[0m\n\u001b[0m\u001b[1;32m    731\u001b[0m             \u001b[0;32mexcept\u001b[0m \u001b[0mException\u001b[0m\u001b[0;34m:\u001b[0m\u001b[0;34m\u001b[0m\u001b[0m\n",
      "\u001b[0;32m/Users/bearzhang/anaconda/lib/python3.6/site-packages/jupyter_client/session.py\u001b[0m in \u001b[0;36mrecv\u001b[0;34m(self, socket, mode, content, copy)\u001b[0m\n\u001b[1;32m    777\u001b[0m         \u001b[0;32mtry\u001b[0m\u001b[0;34m:\u001b[0m\u001b[0;34m\u001b[0m\u001b[0m\n\u001b[0;32m--> 778\u001b[0;31m             \u001b[0mmsg_list\u001b[0m \u001b[0;34m=\u001b[0m \u001b[0msocket\u001b[0m\u001b[0;34m.\u001b[0m\u001b[0mrecv_multipart\u001b[0m\u001b[0;34m(\u001b[0m\u001b[0mmode\u001b[0m\u001b[0;34m,\u001b[0m \u001b[0mcopy\u001b[0m\u001b[0;34m=\u001b[0m\u001b[0mcopy\u001b[0m\u001b[0;34m)\u001b[0m\u001b[0;34m\u001b[0m\u001b[0m\n\u001b[0m\u001b[1;32m    779\u001b[0m         \u001b[0;32mexcept\u001b[0m \u001b[0mzmq\u001b[0m\u001b[0;34m.\u001b[0m\u001b[0mZMQError\u001b[0m \u001b[0;32mas\u001b[0m \u001b[0me\u001b[0m\u001b[0;34m:\u001b[0m\u001b[0;34m\u001b[0m\u001b[0m\n",
      "\u001b[0;32m/Users/bearzhang/anaconda/lib/python3.6/site-packages/zmq/sugar/socket.py\u001b[0m in \u001b[0;36mrecv_multipart\u001b[0;34m(self, flags, copy, track)\u001b[0m\n\u001b[1;32m    394\u001b[0m         \"\"\"\n\u001b[0;32m--> 395\u001b[0;31m         \u001b[0mparts\u001b[0m \u001b[0;34m=\u001b[0m \u001b[0;34m[\u001b[0m\u001b[0mself\u001b[0m\u001b[0;34m.\u001b[0m\u001b[0mrecv\u001b[0m\u001b[0;34m(\u001b[0m\u001b[0mflags\u001b[0m\u001b[0;34m,\u001b[0m \u001b[0mcopy\u001b[0m\u001b[0;34m=\u001b[0m\u001b[0mcopy\u001b[0m\u001b[0;34m,\u001b[0m \u001b[0mtrack\u001b[0m\u001b[0;34m=\u001b[0m\u001b[0mtrack\u001b[0m\u001b[0;34m)\u001b[0m\u001b[0;34m]\u001b[0m\u001b[0;34m\u001b[0m\u001b[0m\n\u001b[0m\u001b[1;32m    396\u001b[0m         \u001b[0;31m# have first part already, only loop while more to receive\u001b[0m\u001b[0;34m\u001b[0m\u001b[0;34m\u001b[0m\u001b[0m\n",
      "\u001b[0;32mzmq/backend/cython/socket.pyx\u001b[0m in \u001b[0;36mzmq.backend.cython.socket.Socket.recv (zmq/backend/cython/socket.c:7683)\u001b[0;34m()\u001b[0m\n",
      "\u001b[0;32mzmq/backend/cython/socket.pyx\u001b[0m in \u001b[0;36mzmq.backend.cython.socket.Socket.recv (zmq/backend/cython/socket.c:7460)\u001b[0;34m()\u001b[0m\n",
      "\u001b[0;32mzmq/backend/cython/socket.pyx\u001b[0m in \u001b[0;36mzmq.backend.cython.socket._recv_copy (zmq/backend/cython/socket.c:2344)\u001b[0;34m()\u001b[0m\n",
      "\u001b[0;32m/Users/bearzhang/anaconda/lib/python3.6/site-packages/zmq/backend/cython/checkrc.pxd\u001b[0m in \u001b[0;36mzmq.backend.cython.checkrc._check_rc (zmq/backend/cython/socket.c:9621)\u001b[0;34m()\u001b[0m\n",
      "\u001b[0;31mKeyboardInterrupt\u001b[0m: ",
      "\nDuring handling of the above exception, another exception occurred:\n",
      "\u001b[0;31mKeyboardInterrupt\u001b[0m                         Traceback (most recent call last)",
      "\u001b[0;32m<ipython-input-232-92f76f72228c>\u001b[0m in \u001b[0;36m<module>\u001b[0;34m()\u001b[0m\n\u001b[1;32m      2\u001b[0m \u001b[0;31m#import data\u001b[0m\u001b[0;34m\u001b[0m\u001b[0;34m\u001b[0m\u001b[0m\n\u001b[1;32m      3\u001b[0m \u001b[0;31m#pls no quotes when enter the name of the file\u001b[0m\u001b[0;34m\u001b[0m\u001b[0;34m\u001b[0m\u001b[0m\n\u001b[0;32m----> 4\u001b[0;31m \u001b[0mbrkthru\u001b[0m \u001b[0;34m=\u001b[0m \u001b[0minput\u001b[0m\u001b[0;34m(\u001b[0m\u001b[0;34m'Enter the name of breakthru file: '\u001b[0m\u001b[0;34m)\u001b[0m\u001b[0;34m\u001b[0m\u001b[0m\n\u001b[0m\u001b[1;32m      5\u001b[0m \u001b[0mbrkthru\u001b[0m \u001b[0;34m=\u001b[0m \u001b[0mpyabf\u001b[0m\u001b[0;34m.\u001b[0m\u001b[0mABF\u001b[0m\u001b[0;34m(\u001b[0m\u001b[0mbrkthru\u001b[0m\u001b[0;34m+\u001b[0m\u001b[0;34m'.abf'\u001b[0m\u001b[0;34m)\u001b[0m\u001b[0;34m\u001b[0m\u001b[0m\n\u001b[1;32m      6\u001b[0m \u001b[0;34m\u001b[0m\u001b[0m\n",
      "\u001b[0;32m/Users/bearzhang/anaconda/lib/python3.6/site-packages/ipykernel/kernelbase.py\u001b[0m in \u001b[0;36mraw_input\u001b[0;34m(self, prompt)\u001b[0m\n\u001b[1;32m    703\u001b[0m             \u001b[0mself\u001b[0m\u001b[0;34m.\u001b[0m\u001b[0m_parent_ident\u001b[0m\u001b[0;34m,\u001b[0m\u001b[0;34m\u001b[0m\u001b[0m\n\u001b[1;32m    704\u001b[0m             \u001b[0mself\u001b[0m\u001b[0;34m.\u001b[0m\u001b[0m_parent_header\u001b[0m\u001b[0;34m,\u001b[0m\u001b[0;34m\u001b[0m\u001b[0m\n\u001b[0;32m--> 705\u001b[0;31m             \u001b[0mpassword\u001b[0m\u001b[0;34m=\u001b[0m\u001b[0;32mFalse\u001b[0m\u001b[0;34m,\u001b[0m\u001b[0;34m\u001b[0m\u001b[0m\n\u001b[0m\u001b[1;32m    706\u001b[0m         )\n\u001b[1;32m    707\u001b[0m \u001b[0;34m\u001b[0m\u001b[0m\n",
      "\u001b[0;32m/Users/bearzhang/anaconda/lib/python3.6/site-packages/ipykernel/kernelbase.py\u001b[0m in \u001b[0;36m_input_request\u001b[0;34m(self, prompt, ident, parent, password)\u001b[0m\n\u001b[1;32m    733\u001b[0m             \u001b[0;32mexcept\u001b[0m \u001b[0mKeyboardInterrupt\u001b[0m\u001b[0;34m:\u001b[0m\u001b[0;34m\u001b[0m\u001b[0m\n\u001b[1;32m    734\u001b[0m                 \u001b[0;31m# re-raise KeyboardInterrupt, to truncate traceback\u001b[0m\u001b[0;34m\u001b[0m\u001b[0;34m\u001b[0m\u001b[0m\n\u001b[0;32m--> 735\u001b[0;31m                 \u001b[0;32mraise\u001b[0m \u001b[0mKeyboardInterrupt\u001b[0m\u001b[0;34m\u001b[0m\u001b[0m\n\u001b[0m\u001b[1;32m    736\u001b[0m             \u001b[0;32melse\u001b[0m\u001b[0;34m:\u001b[0m\u001b[0;34m\u001b[0m\u001b[0m\n\u001b[1;32m    737\u001b[0m                 \u001b[0;32mbreak\u001b[0m\u001b[0;34m\u001b[0m\u001b[0m\n",
      "\u001b[0;31mKeyboardInterrupt\u001b[0m: "
     ]
    }
   ],
   "source": [
    "#!add new cell: use this block to add new cells to the existing df\n",
    "#import data\n",
    "#pls no quotes when enter the name of the file\n",
    "brkthru = input('Enter the name of breakthru file: ')\n",
    "brkthru = pyabf.ABF(brkthru+'.abf')\n",
    "\n",
    "#brkthru.info()\n",
    "#extract file info\n",
    "date = brkthru.ID[:5]\n",
    "print('date of this abf is',date)\n",
    "swpcnt = brkthru.sweepCount\n",
    "print('total sweep count of this file is ',swpcnt)\n",
    "pntnm = brkthru.pointsPerSweep\n",
    "print('number of points per sweep is ', pntnm)\n",
    "\n",
    "cellID = input('Enter the cellID of this file: (enter a number)')#pls enter a number not 'cellnumber'\n",
    "cellID = 'cell' + cellID\n",
    "print('cell ID is',cellID)\n",
    "genotype = input('Enter the genotype of the animal: ')\n",
    "print('the cell is from',genotype,'animal')\n",
    "state = input('Is this cell cultured_c or fridged_f overnight or not known_k?')\n",
    "print('this cell is',state, 'overnight')\n",
    "#Cm is calculated using IgoR swp619x_b, RsBrkThru, Epoch2:-70 to -75 for 10 ms each\n",
    "Cm = input('what is the Cm of the cell? unit pF')\n",
    "print('the membrane capacitance of the cell is', Cm,'pF')\n",
    "#Rs is calculated using IgoR swp619x_b, RsBrkThru, Epoch2:-70 to -75 for 10 ms each\n",
    "Rs = input('what is the Rs fo the cell? unit Mohms')\n",
    "print('the series resistance of the cell is', Rs,'Mohms')\n",
    "#Rin is calculated using IgoR swp619x_b, RsBrkThru, Epoch2:-70 to -75 for 10 ms each\n",
    "Rin = input('what is the Rin of the cell? unit Gohms')\n",
    "SwpNm = input('Enter the number of the sweep of interest')\n",
    "brkthru.setSweep(int(SwpNm)-1)#in python sweeps numbers start at 0, IgoR at 1\n",
    "current = brkthru.dataY\n",
    "voltage = brkthru.dataC\n",
    "time = brkthru.dataX\n",
    "peak = downpeak(current,'VC')\n",
    "print('Ina at 0mV (pA) is',peak,'pA')\n",
    "print('the input resistance of the cell is', float(Rin)*1000,'Mohms')\n",
    "#RMP is calculated use IgoR swp619x_b, Vrest, average 3 sweeps starting from the brkthru sweep\n",
    "RMP = input('what is RMP? unit mV')\n",
    "print('the resting membrane potential of the cell is(before liquid junction potential correction)', RMP,'mV')\n",
    "size = input('is the cell large or small DRG neuron? or unknown')\n",
    "print('the neuron is ', size, 'drg neuron')\n",
    "com = input('add comments to this file:')\n",
    "print('comment added:', com)\n",
    "\n",
    "\n",
    "#calculate Ina at break thru and add it to the df,here use downpeak()\n",
    "\n",
    "#create NEW a dataframe\n",
    "#create all of the colums(features)\n",
    "#colname = ['date','cellID','genotype','Cm (pF)','RMP (mV)','Ina at 0mV (pA)','Rs (Mohms)','Rin (Mohm)','Ih (pA)','Ih voltage (mV)','M current(pA)','M current voltage (mV)','c(ulture)/f(ridge)/k(nown)','size of neuron']\n",
    "##a new dataframe. If not specified, each cell in the df is filled with NaN\n",
    "\n",
    "dfnew = pd.DataFrame(columns=colname,index=[date+cellID])#notice the brackets around 0 to prevent * to be multiplication\n",
    "##fill each cell in df\n",
    "dfnew.loc[date+cellID,'cellID']=cellID\n",
    "dfnew.loc[date+cellID,'c(ulture)/f(ridge)/k(nown)']=state\n",
    "dfnew.loc[date+cellID,'Cm (pF)']=Cm\n",
    "dfnew.loc[date+cellID,'Rs (Mohms)']=Rs\n",
    "dfnew.loc[date+cellID,'RMP (mV)']=RMP\n",
    "dfnew.loc[date+cellID,'Rin (Mohm)']=float(Rin)*1000\n",
    "dfnew.loc[date+cellID,'size of neuron']=size\n",
    "dfnew.loc[date+cellID,'genotype']=genotype\n",
    "dfnew.loc[date+cellID,'Ina at 0mV (pA)']=peak\n",
    "dfnew.loc[date+cellID,'comment']=com\n",
    "dfnew.loc[date+cellID,'date']=date\n",
    "dfnewcopy = dfnew#make a copy for NEW dataframe\n",
    "\n",
    "df = df.append(dfnew)\n",
    "dfcopy = df\n",
    "display(df.tail(3))\n",
    "\n",
    "choice = input('Do you want to keep the newly added info(y/n)?:')\n",
    "if choice == 'n':\n",
    "    df = df[:-1]\n",
    "    dfcopy = df\n",
    "print('after decision,now, last 3 rows of df is')\n",
    "display(df.tail(3))"
   ]
  },
  {
   "cell_type": "code",
   "execution_count": 224,
   "metadata": {
    "collapsed": true
   },
   "outputs": [
    {
     "data": {
      "text/html": [
       "<div>\n",
       "<style>\n",
       "    .dataframe thead tr:only-child th {\n",
       "        text-align: right;\n",
       "    }\n",
       "\n",
       "    .dataframe thead th {\n",
       "        text-align: left;\n",
       "    }\n",
       "\n",
       "    .dataframe tbody tr th {\n",
       "        vertical-align: top;\n",
       "    }\n",
       "</style>\n",
       "<table border=\"1\" class=\"dataframe\">\n",
       "  <thead>\n",
       "    <tr style=\"text-align: right;\">\n",
       "      <th></th>\n",
       "      <th>date</th>\n",
       "      <th>cellID</th>\n",
       "      <th>genotype</th>\n",
       "      <th>Cm (pF)</th>\n",
       "      <th>RMP (mV)</th>\n",
       "      <th>Ina at 0mV (pA)</th>\n",
       "      <th>Rs (Mohms)</th>\n",
       "      <th>Rin (Mohm)</th>\n",
       "      <th>Ih (pA)</th>\n",
       "      <th>Ih voltage (mV)</th>\n",
       "      <th>M current(pA)</th>\n",
       "      <th>M current voltage (mV)</th>\n",
       "      <th>c(ulture)/f(ridge)/k(nown)</th>\n",
       "      <th>size of neuron</th>\n",
       "      <th>comment</th>\n",
       "      <th>rheobase (pA)</th>\n",
       "    </tr>\n",
       "  </thead>\n",
       "  <tbody>\n",
       "    <tr>\n",
       "      <th>18409cell1</th>\n",
       "      <td>18409</td>\n",
       "      <td>cell1</td>\n",
       "      <td>WT</td>\n",
       "      <td>64.9</td>\n",
       "      <td>-61.4</td>\n",
       "      <td>-2453</td>\n",
       "      <td>3.3</td>\n",
       "      <td>20</td>\n",
       "      <td>[-31.12, 16.19, 93.01, 200.85, 268.29]</td>\n",
       "      <td>[-70, -80, -90, -100, -110]</td>\n",
       "      <td>[67.88, 67.13, 31.13, -31.12]</td>\n",
       "      <td>[-40, -50, -60, -70]</td>\n",
       "      <td>u</td>\n",
       "      <td>l</td>\n",
       "      <td></td>\n",
       "      <td>NaN</td>\n",
       "    </tr>\n",
       "    <tr>\n",
       "      <th>18409cell2</th>\n",
       "      <td>18409</td>\n",
       "      <td>cell2</td>\n",
       "      <td>WT</td>\n",
       "      <td>52.8</td>\n",
       "      <td>-57.3</td>\n",
       "      <td>-9926.15</td>\n",
       "      <td>4.6</td>\n",
       "      <td>230</td>\n",
       "      <td>[-31.12, 16.19, 93.01, 200.85, 268.29]</td>\n",
       "      <td>[-70, -80, -90, -100, -110]</td>\n",
       "      <td>[67.88, 67.13, 31.13, -31.12]</td>\n",
       "      <td>[-40, -50, -60, -70]</td>\n",
       "      <td>u</td>\n",
       "      <td>l</td>\n",
       "      <td></td>\n",
       "      <td>NaN</td>\n",
       "    </tr>\n",
       "    <tr>\n",
       "      <th>18409cell3</th>\n",
       "      <td>18409</td>\n",
       "      <td>cell3</td>\n",
       "      <td>WT</td>\n",
       "      <td>74.1</td>\n",
       "      <td>-46.9</td>\n",
       "      <td>-894.775</td>\n",
       "      <td>4.4</td>\n",
       "      <td>120</td>\n",
       "      <td>[-1.15, 18.98, 29.6, 45.38, 95.29]</td>\n",
       "      <td>[-70, -80, -90, -100, -110]</td>\n",
       "      <td>[54.47, 64.22, 12.98, -1.15]</td>\n",
       "      <td>[-40, -50, -60, -70]</td>\n",
       "      <td>u</td>\n",
       "      <td>l</td>\n",
       "      <td></td>\n",
       "      <td>NaN</td>\n",
       "    </tr>\n",
       "    <tr>\n",
       "      <th>18406cell9</th>\n",
       "      <td>18406</td>\n",
       "      <td>cell9</td>\n",
       "      <td>WT</td>\n",
       "      <td>112.6</td>\n",
       "      <td>-48.8</td>\n",
       "      <td>-12013.5</td>\n",
       "      <td>9.7</td>\n",
       "      <td>40</td>\n",
       "      <td>[309.41, 540.08, 818.19, 1065.99, 1170.12]</td>\n",
       "      <td>[-70, -80, -90, -100, -110]</td>\n",
       "      <td>[18.36, 42.92, 100.64, 309.41]</td>\n",
       "      <td>[-40, -50, -60, -70]</td>\n",
       "      <td>u</td>\n",
       "      <td>l</td>\n",
       "      <td>Cmnotperfectfit</td>\n",
       "      <td>NaN</td>\n",
       "    </tr>\n",
       "    <tr>\n",
       "      <th>18406cell10</th>\n",
       "      <td>18406</td>\n",
       "      <td>cell10</td>\n",
       "      <td>WT</td>\n",
       "      <td>141.6</td>\n",
       "      <td>-49.8</td>\n",
       "      <td>-9320.68</td>\n",
       "      <td>8.7</td>\n",
       "      <td>30</td>\n",
       "      <td>NaN</td>\n",
       "      <td>NaN</td>\n",
       "      <td>NaN</td>\n",
       "      <td>NaN</td>\n",
       "      <td>u</td>\n",
       "      <td>l</td>\n",
       "      <td></td>\n",
       "      <td>NaN</td>\n",
       "    </tr>\n",
       "  </tbody>\n",
       "</table>\n",
       "</div>"
      ],
      "text/plain": [
       "              date  cellID genotype Cm (pF) RMP (mV) Ina at 0mV (pA)  \\\n",
       "18409cell1   18409   cell1       WT    64.9    -61.4           -2453   \n",
       "18409cell2   18409   cell2       WT    52.8    -57.3        -9926.15   \n",
       "18409cell3   18409   cell3       WT    74.1    -46.9        -894.775   \n",
       "18406cell9   18406   cell9       WT   112.6    -48.8        -12013.5   \n",
       "18406cell10  18406  cell10       WT   141.6    -49.8        -9320.68   \n",
       "\n",
       "            Rs (Mohms) Rin (Mohm)                                     Ih (pA)  \\\n",
       "18409cell1         3.3         20      [-31.12, 16.19, 93.01, 200.85, 268.29]   \n",
       "18409cell2         4.6        230      [-31.12, 16.19, 93.01, 200.85, 268.29]   \n",
       "18409cell3         4.4        120          [-1.15, 18.98, 29.6, 45.38, 95.29]   \n",
       "18406cell9         9.7         40  [309.41, 540.08, 818.19, 1065.99, 1170.12]   \n",
       "18406cell10        8.7         30                                         NaN   \n",
       "\n",
       "                         Ih voltage (mV)                   M current(pA)  \\\n",
       "18409cell1   [-70, -80, -90, -100, -110]   [67.88, 67.13, 31.13, -31.12]   \n",
       "18409cell2   [-70, -80, -90, -100, -110]   [67.88, 67.13, 31.13, -31.12]   \n",
       "18409cell3   [-70, -80, -90, -100, -110]    [54.47, 64.22, 12.98, -1.15]   \n",
       "18406cell9   [-70, -80, -90, -100, -110]  [18.36, 42.92, 100.64, 309.41]   \n",
       "18406cell10                          NaN                             NaN   \n",
       "\n",
       "            M current voltage (mV) c(ulture)/f(ridge)/k(nown) size of neuron  \\\n",
       "18409cell1    [-40, -50, -60, -70]                          u              l   \n",
       "18409cell2    [-40, -50, -60, -70]                          u              l   \n",
       "18409cell3    [-40, -50, -60, -70]                          u              l   \n",
       "18406cell9    [-40, -50, -60, -70]                          u              l   \n",
       "18406cell10                    NaN                          u              l   \n",
       "\n",
       "                     comment rheobase (pA)  \n",
       "18409cell1                             NaN  \n",
       "18409cell2                             NaN  \n",
       "18409cell3                             NaN  \n",
       "18406cell9   Cmnotperfectfit           NaN  \n",
       "18406cell10                            NaN  "
      ]
     },
     "metadata": {},
     "output_type": "display_data"
    }
   ],
   "source": [
    "display(df.tail(5))"
   ]
  },
  {
   "cell_type": "code",
   "execution_count": 231,
   "metadata": {
    "collapsed": true
   },
   "outputs": [
    {
     "name": "stdout",
     "output_type": "stream",
     "text": [
      "Enter the file name of Ih :18406059\n",
      "date of this abf is 18406\n",
      "total sweep count of this file is  8\n",
      "number of points per sweep is  350000\n",
      "Enter the cellID of this file: (enter a number)15\n",
      "use 0.28 0.29 as left range: 'y' or 'n'y\n",
      "add comments to this file:\n",
      "comment added: \n",
      "amplitude difference is calculated as average from 0.28s to 0.29s minus average from1.24s to 1.25s\n"
     ]
    },
    {
     "data": {
      "text/html": [
       "<div>\n",
       "<style>\n",
       "    .dataframe thead tr:only-child th {\n",
       "        text-align: right;\n",
       "    }\n",
       "\n",
       "    .dataframe thead th {\n",
       "        text-align: left;\n",
       "    }\n",
       "\n",
       "    .dataframe tbody tr th {\n",
       "        vertical-align: top;\n",
       "    }\n",
       "</style>\n",
       "<table border=\"1\" class=\"dataframe\">\n",
       "  <thead>\n",
       "    <tr style=\"text-align: right;\">\n",
       "      <th></th>\n",
       "      <th>date</th>\n",
       "      <th>cellID</th>\n",
       "      <th>genotype</th>\n",
       "      <th>Cm (pF)</th>\n",
       "      <th>RMP (mV)</th>\n",
       "      <th>Ina at 0mV (pA)</th>\n",
       "      <th>Rs (Mohms)</th>\n",
       "      <th>Rin (Mohm)</th>\n",
       "      <th>Ih (pA)</th>\n",
       "      <th>Ih voltage (mV)</th>\n",
       "      <th>M current(pA)</th>\n",
       "      <th>M current voltage (mV)</th>\n",
       "      <th>c(ulture)/f(ridge)/k(nown)</th>\n",
       "      <th>size of neuron</th>\n",
       "      <th>comment</th>\n",
       "      <th>rheobase (pA)</th>\n",
       "    </tr>\n",
       "  </thead>\n",
       "  <tbody>\n",
       "    <tr>\n",
       "      <th>18406cell10</th>\n",
       "      <td>18406</td>\n",
       "      <td>cell10</td>\n",
       "      <td>WT</td>\n",
       "      <td>141.6</td>\n",
       "      <td>-49.8</td>\n",
       "      <td>-9320.68</td>\n",
       "      <td>8.7</td>\n",
       "      <td>30</td>\n",
       "      <td>[466.36, 910.89, 1376.91, 1960.22, 2438.34]</td>\n",
       "      <td>[-70, -80, -90, -100, -110]</td>\n",
       "      <td>[-19.74, 14.91, 135.3, 466.36]</td>\n",
       "      <td>[-40, -50, -60, -70]</td>\n",
       "      <td>u</td>\n",
       "      <td>l</td>\n",
       "      <td>ICleaky</td>\n",
       "      <td>NaN</td>\n",
       "    </tr>\n",
       "    <tr>\n",
       "      <th>18406cell11</th>\n",
       "      <td>18406</td>\n",
       "      <td>cell11</td>\n",
       "      <td>WT</td>\n",
       "      <td>72.3</td>\n",
       "      <td>-47.2</td>\n",
       "      <td>-12977.3</td>\n",
       "      <td>5.5</td>\n",
       "      <td>40</td>\n",
       "      <td>[40.95, 164.7, 324.62, 509.6, 695.67]</td>\n",
       "      <td>[-70, -80, -90, -100, -110]</td>\n",
       "      <td>[19.55, 3.82, -17.46, 40.95]</td>\n",
       "      <td>[-40, -50, -60, -70]</td>\n",
       "      <td>u</td>\n",
       "      <td>l</td>\n",
       "      <td></td>\n",
       "      <td>NaN</td>\n",
       "    </tr>\n",
       "    <tr>\n",
       "      <th>18406cell15</th>\n",
       "      <td>18406</td>\n",
       "      <td>cell15</td>\n",
       "      <td>WT</td>\n",
       "      <td>123.3</td>\n",
       "      <td>-46.9</td>\n",
       "      <td>-7512.82</td>\n",
       "      <td>11.9</td>\n",
       "      <td>40</td>\n",
       "      <td>[-81.72, 175.12, 544.39, 945.78, 1352.6]</td>\n",
       "      <td>[-70, -80, -90, -100, -110]</td>\n",
       "      <td>[46.32, -19.54, -108.24, -81.72]</td>\n",
       "      <td>[-40, -50, -60, -70]</td>\n",
       "      <td>u</td>\n",
       "      <td>l</td>\n",
       "      <td></td>\n",
       "      <td>NaN</td>\n",
       "    </tr>\n",
       "  </tbody>\n",
       "</table>\n",
       "</div>"
      ],
      "text/plain": [
       "              date  cellID genotype Cm (pF) RMP (mV) Ina at 0mV (pA)  \\\n",
       "18406cell10  18406  cell10       WT   141.6    -49.8        -9320.68   \n",
       "18406cell11  18406  cell11       WT    72.3    -47.2        -12977.3   \n",
       "18406cell15  18406  cell15       WT   123.3    -46.9        -7512.82   \n",
       "\n",
       "            Rs (Mohms) Rin (Mohm)  \\\n",
       "18406cell10        8.7         30   \n",
       "18406cell11        5.5         40   \n",
       "18406cell15       11.9         40   \n",
       "\n",
       "                                                 Ih (pA)  \\\n",
       "18406cell10  [466.36, 910.89, 1376.91, 1960.22, 2438.34]   \n",
       "18406cell11        [40.95, 164.7, 324.62, 509.6, 695.67]   \n",
       "18406cell15     [-81.72, 175.12, 544.39, 945.78, 1352.6]   \n",
       "\n",
       "                         Ih voltage (mV)                     M current(pA)  \\\n",
       "18406cell10  [-70, -80, -90, -100, -110]    [-19.74, 14.91, 135.3, 466.36]   \n",
       "18406cell11  [-70, -80, -90, -100, -110]      [19.55, 3.82, -17.46, 40.95]   \n",
       "18406cell15  [-70, -80, -90, -100, -110]  [46.32, -19.54, -108.24, -81.72]   \n",
       "\n",
       "            M current voltage (mV) c(ulture)/f(ridge)/k(nown) size of neuron  \\\n",
       "18406cell10   [-40, -50, -60, -70]                          u              l   \n",
       "18406cell11   [-40, -50, -60, -70]                          u              l   \n",
       "18406cell15   [-40, -50, -60, -70]                          u              l   \n",
       "\n",
       "             comment rheobase (pA)  \n",
       "18406cell10  ICleaky           NaN  \n",
       "18406cell11                    NaN  \n",
       "18406cell15                    NaN  "
      ]
     },
     "metadata": {},
     "output_type": "display_data"
    },
    {
     "name": "stdout",
     "output_type": "stream",
     "text": [
      "Do you want to keep the newly added info(y/n)?:y\n",
      "after decision,now, last 3 rows of df are\n"
     ]
    },
    {
     "data": {
      "text/html": [
       "<div>\n",
       "<style>\n",
       "    .dataframe thead tr:only-child th {\n",
       "        text-align: right;\n",
       "    }\n",
       "\n",
       "    .dataframe thead th {\n",
       "        text-align: left;\n",
       "    }\n",
       "\n",
       "    .dataframe tbody tr th {\n",
       "        vertical-align: top;\n",
       "    }\n",
       "</style>\n",
       "<table border=\"1\" class=\"dataframe\">\n",
       "  <thead>\n",
       "    <tr style=\"text-align: right;\">\n",
       "      <th></th>\n",
       "      <th>date</th>\n",
       "      <th>cellID</th>\n",
       "      <th>genotype</th>\n",
       "      <th>Cm (pF)</th>\n",
       "      <th>RMP (mV)</th>\n",
       "      <th>Ina at 0mV (pA)</th>\n",
       "      <th>Rs (Mohms)</th>\n",
       "      <th>Rin (Mohm)</th>\n",
       "      <th>Ih (pA)</th>\n",
       "      <th>Ih voltage (mV)</th>\n",
       "      <th>M current(pA)</th>\n",
       "      <th>M current voltage (mV)</th>\n",
       "      <th>c(ulture)/f(ridge)/k(nown)</th>\n",
       "      <th>size of neuron</th>\n",
       "      <th>comment</th>\n",
       "      <th>rheobase (pA)</th>\n",
       "    </tr>\n",
       "  </thead>\n",
       "  <tbody>\n",
       "    <tr>\n",
       "      <th>18406cell10</th>\n",
       "      <td>18406</td>\n",
       "      <td>cell10</td>\n",
       "      <td>WT</td>\n",
       "      <td>141.6</td>\n",
       "      <td>-49.8</td>\n",
       "      <td>-9320.68</td>\n",
       "      <td>8.7</td>\n",
       "      <td>30</td>\n",
       "      <td>[466.36, 910.89, 1376.91, 1960.22, 2438.34]</td>\n",
       "      <td>[-70, -80, -90, -100, -110]</td>\n",
       "      <td>[-19.74, 14.91, 135.3, 466.36]</td>\n",
       "      <td>[-40, -50, -60, -70]</td>\n",
       "      <td>u</td>\n",
       "      <td>l</td>\n",
       "      <td>ICleaky</td>\n",
       "      <td>NaN</td>\n",
       "    </tr>\n",
       "    <tr>\n",
       "      <th>18406cell11</th>\n",
       "      <td>18406</td>\n",
       "      <td>cell11</td>\n",
       "      <td>WT</td>\n",
       "      <td>72.3</td>\n",
       "      <td>-47.2</td>\n",
       "      <td>-12977.3</td>\n",
       "      <td>5.5</td>\n",
       "      <td>40</td>\n",
       "      <td>[40.95, 164.7, 324.62, 509.6, 695.67]</td>\n",
       "      <td>[-70, -80, -90, -100, -110]</td>\n",
       "      <td>[19.55, 3.82, -17.46, 40.95]</td>\n",
       "      <td>[-40, -50, -60, -70]</td>\n",
       "      <td>u</td>\n",
       "      <td>l</td>\n",
       "      <td></td>\n",
       "      <td>NaN</td>\n",
       "    </tr>\n",
       "    <tr>\n",
       "      <th>18406cell15</th>\n",
       "      <td>18406</td>\n",
       "      <td>cell15</td>\n",
       "      <td>WT</td>\n",
       "      <td>123.3</td>\n",
       "      <td>-46.9</td>\n",
       "      <td>-7512.82</td>\n",
       "      <td>11.9</td>\n",
       "      <td>40</td>\n",
       "      <td>[-81.72, 175.12, 544.39, 945.78, 1352.6]</td>\n",
       "      <td>[-70, -80, -90, -100, -110]</td>\n",
       "      <td>[46.32, -19.54, -108.24, -81.72]</td>\n",
       "      <td>[-40, -50, -60, -70]</td>\n",
       "      <td>u</td>\n",
       "      <td>l</td>\n",
       "      <td></td>\n",
       "      <td>NaN</td>\n",
       "    </tr>\n",
       "  </tbody>\n",
       "</table>\n",
       "</div>"
      ],
      "text/plain": [
       "              date  cellID genotype Cm (pF) RMP (mV) Ina at 0mV (pA)  \\\n",
       "18406cell10  18406  cell10       WT   141.6    -49.8        -9320.68   \n",
       "18406cell11  18406  cell11       WT    72.3    -47.2        -12977.3   \n",
       "18406cell15  18406  cell15       WT   123.3    -46.9        -7512.82   \n",
       "\n",
       "            Rs (Mohms) Rin (Mohm)  \\\n",
       "18406cell10        8.7         30   \n",
       "18406cell11        5.5         40   \n",
       "18406cell15       11.9         40   \n",
       "\n",
       "                                                 Ih (pA)  \\\n",
       "18406cell10  [466.36, 910.89, 1376.91, 1960.22, 2438.34]   \n",
       "18406cell11        [40.95, 164.7, 324.62, 509.6, 695.67]   \n",
       "18406cell15     [-81.72, 175.12, 544.39, 945.78, 1352.6]   \n",
       "\n",
       "                         Ih voltage (mV)                     M current(pA)  \\\n",
       "18406cell10  [-70, -80, -90, -100, -110]    [-19.74, 14.91, 135.3, 466.36]   \n",
       "18406cell11  [-70, -80, -90, -100, -110]      [19.55, 3.82, -17.46, 40.95]   \n",
       "18406cell15  [-70, -80, -90, -100, -110]  [46.32, -19.54, -108.24, -81.72]   \n",
       "\n",
       "            M current voltage (mV) c(ulture)/f(ridge)/k(nown) size of neuron  \\\n",
       "18406cell10   [-40, -50, -60, -70]                          u              l   \n",
       "18406cell11   [-40, -50, -60, -70]                          u              l   \n",
       "18406cell15   [-40, -50, -60, -70]                          u              l   \n",
       "\n",
       "             comment rheobase (pA)  \n",
       "18406cell10  ICleaky           NaN  \n",
       "18406cell11                    NaN  \n",
       "18406cell15                    NaN  "
      ]
     },
     "metadata": {},
     "output_type": "display_data"
    }
   ],
   "source": [
    "# This block is for filling Ih/M current and their voltage command\n",
    "Ih = input('Enter the file name of Ih :')#this file also includes the M current info\n",
    "#pls no quotes or no '.abf' when enter the name of the file\n",
    "Ih = pyabf.ABF(Ih+'.abf')\n",
    "#brkthru.info()\n",
    "#extract file info\n",
    "date = Ih.ID[:5]\n",
    "print('date of this abf is',date)\n",
    "swpcnt = Ih.sweepCount\n",
    "print('total sweep count of this file is ',swpcnt)\n",
    "pntnm = Ih.pointsPerSweep\n",
    "print('number of points per sweep is ', pntnm)\n",
    "\n",
    "cellID = input('Enter the cellID of this file: (enter a number)')#pls enter a number not 'cellnumber'\n",
    "cellID = 'cell' + cellID\n",
    "\n",
    "#create an empty list for VC output\n",
    "IhMcurlist = []\n",
    "\n",
    "#create list for voltage command\n",
    "IhMV = [-40,-50,-60,-70,-80,-90,-100,-110]\n",
    "IhV = IhMV[3:]\n",
    "IhV\n",
    "MV = IhMV[:4]\n",
    "MV#here define M voltage as -40 to -70(included), Ih voltage as -70 to -110(included)\n",
    "\n",
    "# llo and lhi depends on tau,if not specified in comments, llo = 0.28, lhi = 0.29\n",
    "lchoice = input(\"use 0.28 0.29 as left range: 'y' or 'n'\")\n",
    "if lchoice == 'y':\n",
    "    llo = 0.28\n",
    "    lhi = 0.29\n",
    "elif lchoice == 'n':\n",
    "    llo, lhi = input(\"Enter the range of left end range (unit:s)(seperate by one space): \").split()\n",
    "    com = com+' ;'+'llo is'+llo+'lhi'+lhi+' ;'\n",
    "else:\n",
    "    print('pls make up your mind about left range!')\n",
    "\n",
    "#add comment\n",
    "com = com + input('add comments to this file:')\n",
    "print('comment added:', com)\n",
    "df.loc[date+cellID,'comment']=com\n",
    "\n",
    "#1.24 1.25 in this case\n",
    "rlo = 1.24\n",
    "rhi = 1.25\n",
    "#rlo, rhi = input(\"Enter the range of right end range (unit:s)(seperate by one space): \").split()\n",
    "print('amplitude difference is calculated as average from {}s to {}s minus average from{}s to {}s'.format(llo, lhi,rlo,rhi))\n",
    "rlo = int(float(rlo)*100000)\n",
    "rhi = int(float(rhi)*100000)\n",
    "llo = int(float(llo)*100000)\n",
    "lhi = int(float(lhi)*100000)\n",
    "for i in range(swpcnt):#?This for loop failed to read voltage somehow,find out later\n",
    "    Ih.setSweep(i)\n",
    "    current=Ih.dataY\n",
    "    ampdiff=diffIhM(current,llo,lhi,rlo,rhi)\n",
    "    IhMcurlist.append(ampdiff)\n",
    "\n",
    "#extract Ih info from IhMcurlist\n",
    "Ihlist = IhMcurlist[3:]\n",
    "Mlist = IhMcurlist[:4]\n",
    "\n",
    "#add Ihlist,IhV,Mlist,MV into df\n",
    "df = df.astype('object')\n",
    "df.loc[date+cellID,'Ih (pA)'] = Ihlist\n",
    "df.loc[date+cellID,'Ih voltage (mV)'] = IhV\n",
    "df.loc[date+cellID,'M current(pA)'] = Mlist\n",
    "df.loc[date+cellID,'M current voltage (mV)'] = MV\n",
    "display(df.tail(3))\n",
    "\n",
    "#decide if want to keep the added data\n",
    "choice = input('Do you want to keep the newly added info(y/n)?:')\n",
    "if choice == 'n':\n",
    "    df.loc[date+cellID,'Ih (pA)'] = np.nan\n",
    "    df.loc[date+cellID,'M current(pA)'] = np.nan\n",
    "    dfcopy = df\n",
    "print('after decision,now, last 3 rows of df are')\n",
    "display(df.tail(3))\n",
    "\n",
    "\n"
   ]
  },
  {
   "cell_type": "code",
   "execution_count": 242,
   "metadata": {},
   "outputs": [
    {
     "name": "stdout",
     "output_type": "stream",
     "text": [
      "Stored 'df' (DataFrame)\n",
      "Stored variables and their in-db values:\n",
      "df             ->               date  cellID genotype Cm (pF) RMP (m\n"
     ]
    }
   ],
   "source": [
    "#write a csv to path\n",
    "path = '/Users/bearzhang/Desktop/Beanlab/py/'\n",
    "df.to_csv(os.path.join(path,'IhM.csv'))\n",
    "\n",
    "#store everything you want to store here\n",
    "%store df \n",
    "%store"
   ]
  },
  {
   "cell_type": "code",
   "execution_count": 234,
   "metadata": {},
   "outputs": [
    {
     "data": {
      "text/plain": [
       "(48, 16)"
      ]
     },
     "execution_count": 234,
     "metadata": {},
     "output_type": "execute_result"
    }
   ],
   "source": [
    "#df = df[:-1]\n",
    "#this block is created to examine and modify df,dfnew,dfcopy,dfnewcopy\n",
    "#df.shape:dimension of df\n",
    "df.shape\n",
    "#get row names in a list: list(df.index)\n",
    "#list(df.index)\n",
    "#get col names in a list: list(df)\n",
    "#list(df)\n",
    "#display(df.tail(5))\n",
    "#display(df)"
   ]
  },
  {
   "cell_type": "code",
   "execution_count": 1018,
   "metadata": {
    "collapsed": true
   },
   "outputs": [],
   "source": [
    "#add comments to table\n",
    "df.loc['','comment'] = ''"
   ]
  },
  {
   "cell_type": "code",
   "execution_count": null,
   "metadata": {
    "collapsed": true
   },
   "outputs": [],
   "source": [
    "#here we choose the cell by the following criteria: RMP<-45mV, Rs<?, Cm>?, Ina at 0mV >.\n",
    "#also, any file with holding current at ? mV larger than? pA must be discarded because the cells become very leaky. \n",
    "\n"
   ]
  },
  {
   "cell_type": "code",
   "execution_count": 957,
   "metadata": {
    "collapsed": true
   },
   "outputs": [
    {
     "data": {
      "text/plain": [
       "Text(0.5,1,'Ih')"
      ]
     },
     "execution_count": 957,
     "metadata": {},
     "output_type": "execute_result"
    },
    {
     "data": {
      "image/png": "[encoded data removed]",
      "text/plain": [
       "<Figure size 432x288 with 1 Axes>"
      ]
     },
     "metadata": {},
     "output_type": "display_data"
    }
   ],
   "source": [
    "#this block is to plot Ih with matplotlib\n",
    "#notice parameters: marker for point shape\n",
    "plt.plot(df.loc['18518cell3','Ih voltage (mV)'],df.loc['18518cell3','Ih (pA)'], marker='o', color='b')\n",
    "plt.axis('auto')\n",
    "plt.xlabel('voltage (mV)')\n",
    "plt.ylabel('current (pA)')\n",
    "plt.title('Ih')\n",
    "\n"
   ]
  },
  {
   "cell_type": "code",
   "execution_count": 961,
   "metadata": {
    "collapsed": true
   },
   "outputs": [
    {
     "data": {
      "text/plain": [
       "['date',\n",
       " 'cellID',\n",
       " 'genotype',\n",
       " 'Cm (pF)',\n",
       " 'RMP (mV)',\n",
       " 'Ina at 0mV (pA)',\n",
       " 'Rs (Mohms)',\n",
       " 'Rin (Mohm)',\n",
       " 'Ih (pA)',\n",
       " 'Ih voltage (mV)',\n",
       " 'M current(pA)',\n",
       " 'M current voltage (mV)',\n",
       " 'c(ulture)/f(ridge)/k(nown)',\n",
       " 'size of neuron']"
      ]
     },
     "execution_count": 961,
     "metadata": {},
     "output_type": "execute_result"
    }
   ],
   "source": [
    "colname"
   ]
  },
  {
   "cell_type": "code",
   "execution_count": 964,
   "metadata": {
    "collapsed": true
   },
   "outputs": [
    {
     "data": {
      "text/plain": [
       "Text(0.5,1,'M')"
      ]
     },
     "execution_count": 964,
     "metadata": {},
     "output_type": "execute_result"
    },
    {
     "data": {
      "image/png": "[encoded data removed]",
      "text/plain": [
       "<Figure size 432x288 with 1 Axes>"
      ]
     },
     "metadata": {},
     "output_type": "display_data"
    }
   ],
   "source": [
    "#this block is to plot M with matplotlib\n",
    "plt.plot(df.loc['18518cell3','M current voltage (mV)'],df.loc['18518cell3','M current(pA)'], marker='o', color='r')\n",
    "plt.axis('auto')\n",
    "plt.xlabel('voltage (mV)')\n",
    "plt.ylabel('current (pA)')\n",
    "plt.title('M')"
   ]
  },
  {
   "cell_type": "code",
   "execution_count": null,
   "metadata": {
    "collapsed": true
   },
   "outputs": [],
   "source": [
    "# save this notebook, csv form into the github repoirtore\n"
   ]
  },
  {
   "cell_type": "code",
   "execution_count": null,
   "metadata": {
    "collapsed": true
   },
   "outputs": [],
   "source": [
    "# This block is to plot an interactive scatter plot use R, plotly package. \n",
    "#By now, I found plotly in R is more useful than python.\n",
    "\n",
    "'''\n",
    "#install R rpy2\n",
    "#!conda install --yes --prefix {sys.prefix} rpy2\n",
    "#%load_ext rpy2.ipython\n",
    "%R require(ggplot2)\n",
    "%R require(plotly)\n",
    "#R import data from python\n",
    "%%R -i df'''\n"
   ]
  },
  {
   "cell_type": "code",
   "execution_count": null,
   "metadata": {
    "collapsed": true
   },
   "outputs": [],
   "source": [
    "#decide a sweep you want to work on and show the swp ,given\n",
    "SwpNm = int(input('Enter the number of sweep you are interested in: '+'from '+brkthru.ID+cellID))\n",
    "brkthru.setSweep(SwpNm-1) #in python sweeps numbers start at 0, IgoR at 1\n",
    "voltage=brkthru.dataC\n",
    "time=brkthru.dataX\n",
    "current=brkthru.dataY\n",
    "\n",
    "plt.figure('voltage',figsize=(15,8))\n",
    "plt.plot(time,voltage, color = 'k')\n",
    "plt.xlabel('time (s)', fontsize=14, color='black')\n",
    "plt.ylabel('command (mV)', fontsize=14, color='black')\n",
    "plt.title(date+cellID+'voltage at sweep'+str(SwpNm),fontsize=14, color='black')\n",
    "\n",
    "plt.figure('Ina at 0mV current',figsize=(15,8))\n",
    "plt.plot(time,current, color ='r')\n",
    "plt.xlabel('time (s)', fontsize=14, color='black')\n",
    "plt.ylabel('current (pA)', fontsize=14, color='black')\n",
    "plt.title(date+cellID+'current at sweep'+str(SwpNm),fontsize=14, color='black')"
   ]
  }
 ],
 "metadata": {
  "kernelspec": {
   "display_name": "Python 3",
   "language": "python",
   "name": "python3"
  },
  "language_info": {
   "codemirror_mode": {
    "name": "ipython",
    "version": 3
   },
   "file_extension": ".py",
   "mimetype": "text/x-python",
   "name": "python",
   "nbconvert_exporter": "python",
   "pygments_lexer": "ipython3",
   "version": "3.6.1"
  }
 },
 "nbformat": 4,
 "nbformat_minor": 2
}
